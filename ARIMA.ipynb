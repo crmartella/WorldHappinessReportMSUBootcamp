{
 "cells": [
  {
   "cell_type": "code",
   "execution_count": 4,
   "id": "c9906b8c",
   "metadata": {},
   "outputs": [],
   "source": [
    "import pandas as pd\n",
    "import numpy as np\n",
    "import matplotlib.pyplot as plt\n",
    "from statsmodels.tsa.arima.model import ARIMA\n",
    "from sklearn.metrics import mean_squared_error\n",
    "\n",
    "# Load the data\n",
    "happiness = pd.read_csv(\"Resources/WHR 2005 to 2023.csv\")"
   ]
  },
  {
   "cell_type": "code",
   "execution_count": 5,
   "id": "4e90399b",
   "metadata": {},
   "outputs": [
    {
     "name": "stdout",
     "output_type": "stream",
     "text": [
      "Length of test data: 468\n",
      "Length of predictions: 13\n"
     ]
    }
   ],
   "source": [
    "print(\"Length of test data:\", len(test))\n",
    "print(\"Length of predictions:\", len(predictions))"
   ]
  },
  {
   "cell_type": "code",
   "execution_count": 6,
   "id": "a50e344b",
   "metadata": {
    "scrolled": true
   },
   "outputs": [
    {
     "name": "stdout",
     "output_type": "stream",
     "text": [
      "Start index: 2010-01-01 00:00:00\n",
      "End index: 2023-01-01 00:00:00\n"
     ]
    }
   ],
   "source": [
    "print(\"Start index:\", start_index)\n",
    "print(\"End index:\", end_index)"
   ]
  },
  {
   "cell_type": "code",
   "execution_count": 7,
   "id": "9ee91625",
   "metadata": {},
   "outputs": [
    {
     "ename": "NameError",
     "evalue": "name 'p' is not defined",
     "output_type": "error",
     "traceback": [
      "\u001b[1;31m---------------------------------------------------------------------------\u001b[0m",
      "\u001b[1;31mNameError\u001b[0m                                 Traceback (most recent call last)",
      "Cell \u001b[1;32mIn[7], line 2\u001b[0m\n\u001b[0;32m      1\u001b[0m \u001b[38;5;66;03m# Define the ARIMA model\u001b[39;00m\n\u001b[1;32m----> 2\u001b[0m model \u001b[38;5;241m=\u001b[39m ARIMA(train, order\u001b[38;5;241m=\u001b[39m(\u001b[43mp\u001b[49m, d, q))\n\u001b[0;32m      4\u001b[0m \u001b[38;5;66;03m# Fit the ARIMA model\u001b[39;00m\n\u001b[0;32m      5\u001b[0m model_fit \u001b[38;5;241m=\u001b[39m model\u001b[38;5;241m.\u001b[39mfit()\n",
      "\u001b[1;31mNameError\u001b[0m: name 'p' is not defined"
     ]
    }
   ],
   "source": [
    "# Define the ARIMA model\n",
    "model = ARIMA(train, order=(p, d, q))\n",
    "\n",
    "# Fit the ARIMA model\n",
    "model_fit = model.fit()\n",
    "\n",
    "# Make predictions\n",
    "predictions = model_fit.predict(start=start_index, end=end_index)\n",
    "\n",
    "# Print the predictions\n",
    "print(predictions)"
   ]
  },
  {
   "cell_type": "code",
   "execution_count": null,
   "id": "afe26ca0",
   "metadata": {},
   "outputs": [],
   "source": []
  },
  {
   "cell_type": "code",
   "execution_count": null,
   "id": "0a2e1e5a",
   "metadata": {},
   "outputs": [],
   "source": []
  },
  {
   "cell_type": "code",
   "execution_count": null,
   "id": "3b24789b",
   "metadata": {},
   "outputs": [],
   "source": []
  },
  {
   "cell_type": "code",
   "execution_count": null,
   "id": "a0284b4e",
   "metadata": {},
   "outputs": [],
   "source": []
  },
  {
   "cell_type": "code",
   "execution_count": null,
   "id": "2cc61709",
   "metadata": {},
   "outputs": [],
   "source": []
  },
  {
   "cell_type": "code",
   "execution_count": null,
   "id": "fe2fcd94",
   "metadata": {},
   "outputs": [],
   "source": []
  },
  {
   "cell_type": "code",
   "execution_count": null,
   "id": "82e5f149",
   "metadata": {},
   "outputs": [],
   "source": [
    "# Convert the 'Year' column to datetime\n",
    "happiness['Year'] = pd.to_datetime(happiness['Year'], format='%Y')\n",
    "\n",
    "# Set 'Year' column as index\n",
    "happiness.set_index('Year', inplace=True)\n",
    "\n",
    "# Prepare the data by selecting the 'Life Ladder' column\n",
    "data = happiness['Life Ladder']\n",
    "\n",
    "# Split the data into training and testing sets\n",
    "train_size = int(len(data) * 0.8)\n",
    "train, test = data[:train_size], data[train_size:]\n",
    "\n",
    "# Fit ARIMA model\n",
    "model = ARIMA(train, order=(5,1,0))  # Example order, you may need to tune these parameters\n",
    "model_fit = model.fit()\n",
    "\n",
    "# Make predictions\n",
    "start_index = test.index[0]\n",
    "end_index = test.index[-1]\n",
    "predictions = model_fit.predict(start=start_index, end=end_index)\n",
    "\n",
    "# Evaluate the model\n",
    "mse = mean_squared_error(test, predictions)\n",
    "print(\"Mean Squared Error:\", mse)\n",
    "\n",
    "# Plot the results\n",
    "plt.plot(test.index, test.values, label='Actual')\n",
    "plt.plot(test.index, predictions, color='red', label='Predicted')\n",
    "plt.xlabel('Year')\n",
    "plt.ylabel('Life Ladder')\n",
    "plt.title('ARIMA Forecast')\n",
    "plt.legend()\n",
    "plt.show()"
   ]
  },
  {
   "cell_type": "code",
   "execution_count": null,
   "id": "cea38d94",
   "metadata": {},
   "outputs": [],
   "source": []
  },
  {
   "cell_type": "code",
   "execution_count": null,
   "id": "4c26dd19",
   "metadata": {},
   "outputs": [],
   "source": []
  },
  {
   "cell_type": "code",
   "execution_count": null,
   "id": "1dd38c7f",
   "metadata": {},
   "outputs": [],
   "source": []
  },
  {
   "cell_type": "code",
   "execution_count": null,
   "id": "5ffff61d",
   "metadata": {},
   "outputs": [],
   "source": []
  },
  {
   "cell_type": "code",
   "execution_count": null,
   "id": "1cb99199",
   "metadata": {},
   "outputs": [],
   "source": []
  },
  {
   "cell_type": "code",
   "execution_count": null,
   "id": "12a9f432",
   "metadata": {},
   "outputs": [],
   "source": []
  },
  {
   "cell_type": "code",
   "execution_count": null,
   "id": "609ef3d5",
   "metadata": {},
   "outputs": [],
   "source": []
  },
  {
   "cell_type": "code",
   "execution_count": null,
   "id": "1fcb564a",
   "metadata": {},
   "outputs": [],
   "source": []
  }
 ],
 "metadata": {
  "kernelspec": {
   "display_name": "Python 3 (ipykernel)",
   "language": "python",
   "name": "python3"
  },
  "language_info": {
   "codemirror_mode": {
    "name": "ipython",
    "version": 3
   },
   "file_extension": ".py",
   "mimetype": "text/x-python",
   "name": "python",
   "nbconvert_exporter": "python",
   "pygments_lexer": "ipython3",
   "version": "3.10.13"
  }
 },
 "nbformat": 4,
 "nbformat_minor": 5
}
