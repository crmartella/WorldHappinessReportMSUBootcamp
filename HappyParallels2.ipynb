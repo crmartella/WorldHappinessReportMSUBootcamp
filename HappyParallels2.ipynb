{
 "cells": [
  {
   "cell_type": "code",
   "execution_count": 3,
   "id": "2ab4b83b",
   "metadata": {},
   "outputs": [
    {
     "name": "stdout",
     "output_type": "stream",
     "text": [
      "Requirement already satisfied: mlxtend in c:\\users\\sean\\anaconda3\\envs\\dev\\lib\\site-packages (0.23.1)\n",
      "Requirement already satisfied: scipy>=1.2.1 in c:\\users\\sean\\anaconda3\\envs\\dev\\lib\\site-packages (from mlxtend) (1.11.1)\n",
      "Requirement already satisfied: numpy>=1.16.2 in c:\\users\\sean\\anaconda3\\envs\\dev\\lib\\site-packages (from mlxtend) (1.24.3)\n",
      "Requirement already satisfied: pandas>=0.24.2 in c:\\users\\sean\\anaconda3\\envs\\dev\\lib\\site-packages (from mlxtend) (2.0.3)\n",
      "Requirement already satisfied: scikit-learn>=1.0.2 in c:\\users\\sean\\anaconda3\\envs\\dev\\lib\\site-packages (from mlxtend) (1.3.0)\n",
      "Requirement already satisfied: matplotlib>=3.0.0 in c:\\users\\sean\\anaconda3\\envs\\dev\\lib\\site-packages (from mlxtend) (3.7.2)\n",
      "Requirement already satisfied: joblib>=0.13.2 in c:\\users\\sean\\anaconda3\\envs\\dev\\lib\\site-packages (from mlxtend) (1.2.0)\n",
      "Requirement already satisfied: contourpy>=1.0.1 in c:\\users\\sean\\anaconda3\\envs\\dev\\lib\\site-packages (from matplotlib>=3.0.0->mlxtend) (1.0.5)\n",
      "Requirement already satisfied: cycler>=0.10 in c:\\users\\sean\\anaconda3\\envs\\dev\\lib\\site-packages (from matplotlib>=3.0.0->mlxtend) (0.11.0)\n",
      "Requirement already satisfied: fonttools>=4.22.0 in c:\\users\\sean\\anaconda3\\envs\\dev\\lib\\site-packages (from matplotlib>=3.0.0->mlxtend) (4.25.0)\n",
      "Requirement already satisfied: kiwisolver>=1.0.1 in c:\\users\\sean\\anaconda3\\envs\\dev\\lib\\site-packages (from matplotlib>=3.0.0->mlxtend) (1.4.4)\n",
      "Requirement already satisfied: packaging>=20.0 in c:\\users\\sean\\anaconda3\\envs\\dev\\lib\\site-packages (from matplotlib>=3.0.0->mlxtend) (23.1)\n",
      "Requirement already satisfied: pillow>=6.2.0 in c:\\users\\sean\\anaconda3\\envs\\dev\\lib\\site-packages (from matplotlib>=3.0.0->mlxtend) (9.4.0)\n",
      "Requirement already satisfied: pyparsing<3.1,>=2.3.1 in c:\\users\\sean\\anaconda3\\envs\\dev\\lib\\site-packages (from matplotlib>=3.0.0->mlxtend) (3.0.9)\n",
      "Requirement already satisfied: python-dateutil>=2.7 in c:\\users\\sean\\anaconda3\\envs\\dev\\lib\\site-packages (from matplotlib>=3.0.0->mlxtend) (2.8.2)\n",
      "Requirement already satisfied: pytz>=2020.1 in c:\\users\\sean\\anaconda3\\envs\\dev\\lib\\site-packages (from pandas>=0.24.2->mlxtend) (2023.3.post1)\n",
      "Requirement already satisfied: tzdata>=2022.1 in c:\\users\\sean\\anaconda3\\envs\\dev\\lib\\site-packages (from pandas>=0.24.2->mlxtend) (2023.3)\n",
      "Requirement already satisfied: threadpoolctl>=2.0.0 in c:\\users\\sean\\anaconda3\\envs\\dev\\lib\\site-packages (from scikit-learn>=1.0.2->mlxtend) (2.2.0)\n",
      "Requirement already satisfied: six>=1.5 in c:\\users\\sean\\anaconda3\\envs\\dev\\lib\\site-packages (from python-dateutil>=2.7->matplotlib>=3.0.0->mlxtend) (1.16.0)\n",
      "Requirement already satisfied: prophet in c:\\users\\sean\\anaconda3\\envs\\dev\\lib\\site-packages (1.1.5)\n",
      "Requirement already satisfied: cmdstanpy>=1.0.4 in c:\\users\\sean\\anaconda3\\envs\\dev\\lib\\site-packages (from prophet) (1.2.0)\n",
      "Requirement already satisfied: numpy>=1.15.4 in c:\\users\\sean\\anaconda3\\envs\\dev\\lib\\site-packages (from prophet) (1.24.3)\n",
      "Requirement already satisfied: matplotlib>=2.0.0 in c:\\users\\sean\\anaconda3\\envs\\dev\\lib\\site-packages (from prophet) (3.7.2)\n",
      "Requirement already satisfied: pandas>=1.0.4 in c:\\users\\sean\\anaconda3\\envs\\dev\\lib\\site-packages (from prophet) (2.0.3)\n",
      "Requirement already satisfied: holidays>=0.25 in c:\\users\\sean\\anaconda3\\envs\\dev\\lib\\site-packages (from prophet) (0.39)\n",
      "Requirement already satisfied: tqdm>=4.36.1 in c:\\users\\sean\\anaconda3\\envs\\dev\\lib\\site-packages (from prophet) (4.65.0)\n",
      "Requirement already satisfied: importlib-resources in c:\\users\\sean\\anaconda3\\envs\\dev\\lib\\site-packages (from prophet) (6.1.1)\n",
      "Requirement already satisfied: stanio~=0.3.0 in c:\\users\\sean\\anaconda3\\envs\\dev\\lib\\site-packages (from cmdstanpy>=1.0.4->prophet) (0.3.0)\n",
      "Requirement already satisfied: python-dateutil in c:\\users\\sean\\anaconda3\\envs\\dev\\lib\\site-packages (from holidays>=0.25->prophet) (2.8.2)\n",
      "Requirement already satisfied: contourpy>=1.0.1 in c:\\users\\sean\\anaconda3\\envs\\dev\\lib\\site-packages (from matplotlib>=2.0.0->prophet) (1.0.5)\n",
      "Requirement already satisfied: cycler>=0.10 in c:\\users\\sean\\anaconda3\\envs\\dev\\lib\\site-packages (from matplotlib>=2.0.0->prophet) (0.11.0)\n",
      "Requirement already satisfied: fonttools>=4.22.0 in c:\\users\\sean\\anaconda3\\envs\\dev\\lib\\site-packages (from matplotlib>=2.0.0->prophet) (4.25.0)\n",
      "Requirement already satisfied: kiwisolver>=1.0.1 in c:\\users\\sean\\anaconda3\\envs\\dev\\lib\\site-packages (from matplotlib>=2.0.0->prophet) (1.4.4)\n",
      "Requirement already satisfied: packaging>=20.0 in c:\\users\\sean\\anaconda3\\envs\\dev\\lib\\site-packages (from matplotlib>=2.0.0->prophet) (23.1)\n",
      "Requirement already satisfied: pillow>=6.2.0 in c:\\users\\sean\\anaconda3\\envs\\dev\\lib\\site-packages (from matplotlib>=2.0.0->prophet) (9.4.0)\n",
      "Requirement already satisfied: pyparsing<3.1,>=2.3.1 in c:\\users\\sean\\anaconda3\\envs\\dev\\lib\\site-packages (from matplotlib>=2.0.0->prophet) (3.0.9)\n",
      "Requirement already satisfied: pytz>=2020.1 in c:\\users\\sean\\anaconda3\\envs\\dev\\lib\\site-packages (from pandas>=1.0.4->prophet) (2023.3.post1)\n",
      "Requirement already satisfied: tzdata>=2022.1 in c:\\users\\sean\\anaconda3\\envs\\dev\\lib\\site-packages (from pandas>=1.0.4->prophet) (2023.3)\n",
      "Requirement already satisfied: colorama in c:\\users\\sean\\anaconda3\\envs\\dev\\lib\\site-packages (from tqdm>=4.36.1->prophet) (0.4.6)\n",
      "Requirement already satisfied: six>=1.5 in c:\\users\\sean\\anaconda3\\envs\\dev\\lib\\site-packages (from python-dateutil->holidays>=0.25->prophet) (1.16.0)\n"
     ]
    }
   ],
   "source": [
    "!pip install mlxtend\n",
    "!pip install prophet\n",
    "import pandas as pd\n",
    "import numpy as np\n",
    "from sklearn.model_selection import train_test_split\n",
    "from sklearn.linear_model import LinearRegression\n",
    "from sklearn.preprocessing import MinMaxScaler\n",
    "from sklearn.metrics import mean_squared_error, r2_score\n",
    "import matplotlib.pyplot as plt\n",
    "import seaborn as sns\n",
    "from sklearn.impute import SimpleImputer"
   ]
  },
  {
   "cell_type": "code",
   "execution_count": 4,
   "id": "e3999d2e",
   "metadata": {
    "scrolled": true
   },
   "outputs": [
    {
     "data": {
      "text/html": [
       "<div>\n",
       "<style scoped>\n",
       "    .dataframe tbody tr th:only-of-type {\n",
       "        vertical-align: middle;\n",
       "    }\n",
       "\n",
       "    .dataframe tbody tr th {\n",
       "        vertical-align: top;\n",
       "    }\n",
       "\n",
       "    .dataframe thead th {\n",
       "        text-align: right;\n",
       "    }\n",
       "</style>\n",
       "<table border=\"1\" class=\"dataframe\">\n",
       "  <thead>\n",
       "    <tr style=\"text-align: right;\">\n",
       "      <th></th>\n",
       "      <th>Country Name</th>\n",
       "      <th>Regional Indicator</th>\n",
       "      <th>Year</th>\n",
       "      <th>Life Ladder</th>\n",
       "      <th>Log GDP Per Capita</th>\n",
       "      <th>Social Support</th>\n",
       "      <th>Healthy Life Expectancy At Birth</th>\n",
       "      <th>Freedom To Make Life Choices</th>\n",
       "      <th>Generosity</th>\n",
       "      <th>Perceptions Of Corruption</th>\n",
       "      <th>Positive Affect</th>\n",
       "      <th>Negative Affect</th>\n",
       "      <th>Confidence In National Government</th>\n",
       "    </tr>\n",
       "  </thead>\n",
       "  <tbody>\n",
       "    <tr>\n",
       "      <th>0</th>\n",
       "      <td>Australia</td>\n",
       "      <td>North America and ANZ</td>\n",
       "      <td>2005</td>\n",
       "      <td>7.340688</td>\n",
       "      <td>10.662058</td>\n",
       "      <td>0.967892</td>\n",
       "      <td>69.800003</td>\n",
       "      <td>0.934973</td>\n",
       "      <td>NaN</td>\n",
       "      <td>0.390416</td>\n",
       "      <td>0.769770</td>\n",
       "      <td>0.238012</td>\n",
       "      <td>0.532063</td>\n",
       "    </tr>\n",
       "    <tr>\n",
       "      <th>1</th>\n",
       "      <td>Belgium</td>\n",
       "      <td>Western Europe</td>\n",
       "      <td>2005</td>\n",
       "      <td>7.262290</td>\n",
       "      <td>10.743808</td>\n",
       "      <td>0.934875</td>\n",
       "      <td>68.400002</td>\n",
       "      <td>0.923843</td>\n",
       "      <td>NaN</td>\n",
       "      <td>0.597554</td>\n",
       "      <td>0.676886</td>\n",
       "      <td>0.260380</td>\n",
       "      <td>0.551705</td>\n",
       "    </tr>\n",
       "    <tr>\n",
       "      <th>2</th>\n",
       "      <td>Brazil</td>\n",
       "      <td>Latin America and Caribbean</td>\n",
       "      <td>2005</td>\n",
       "      <td>6.636771</td>\n",
       "      <td>9.435151</td>\n",
       "      <td>0.882923</td>\n",
       "      <td>63.099998</td>\n",
       "      <td>0.882186</td>\n",
       "      <td>NaN</td>\n",
       "      <td>0.744994</td>\n",
       "      <td>0.769921</td>\n",
       "      <td>0.301780</td>\n",
       "      <td>0.340625</td>\n",
       "    </tr>\n",
       "    <tr>\n",
       "      <th>3</th>\n",
       "      <td>Canada</td>\n",
       "      <td>North America and ANZ</td>\n",
       "      <td>2005</td>\n",
       "      <td>7.418048</td>\n",
       "      <td>10.707299</td>\n",
       "      <td>0.961552</td>\n",
       "      <td>70.500000</td>\n",
       "      <td>0.957306</td>\n",
       "      <td>0.248033</td>\n",
       "      <td>0.502681</td>\n",
       "      <td>0.783299</td>\n",
       "      <td>0.233278</td>\n",
       "      <td>0.442818</td>\n",
       "    </tr>\n",
       "    <tr>\n",
       "      <th>4</th>\n",
       "      <td>Czechia</td>\n",
       "      <td>Central and Eastern Europe</td>\n",
       "      <td>2005</td>\n",
       "      <td>6.439257</td>\n",
       "      <td>10.321686</td>\n",
       "      <td>0.918759</td>\n",
       "      <td>67.099998</td>\n",
       "      <td>0.865235</td>\n",
       "      <td>NaN</td>\n",
       "      <td>0.900733</td>\n",
       "      <td>0.638764</td>\n",
       "      <td>0.257949</td>\n",
       "      <td>0.282911</td>\n",
       "    </tr>\n",
       "  </tbody>\n",
       "</table>\n",
       "</div>"
      ],
      "text/plain": [
       "  Country Name           Regional Indicator  Year  Life Ladder  \\\n",
       "0    Australia        North America and ANZ  2005     7.340688   \n",
       "1      Belgium               Western Europe  2005     7.262290   \n",
       "2       Brazil  Latin America and Caribbean  2005     6.636771   \n",
       "3       Canada        North America and ANZ  2005     7.418048   \n",
       "4      Czechia   Central and Eastern Europe  2005     6.439257   \n",
       "\n",
       "   Log GDP Per Capita  Social Support  Healthy Life Expectancy At Birth  \\\n",
       "0           10.662058        0.967892                         69.800003   \n",
       "1           10.743808        0.934875                         68.400002   \n",
       "2            9.435151        0.882923                         63.099998   \n",
       "3           10.707299        0.961552                         70.500000   \n",
       "4           10.321686        0.918759                         67.099998   \n",
       "\n",
       "   Freedom To Make Life Choices  Generosity  Perceptions Of Corruption  \\\n",
       "0                      0.934973         NaN                   0.390416   \n",
       "1                      0.923843         NaN                   0.597554   \n",
       "2                      0.882186         NaN                   0.744994   \n",
       "3                      0.957306    0.248033                   0.502681   \n",
       "4                      0.865235         NaN                   0.900733   \n",
       "\n",
       "   Positive Affect  Negative Affect  Confidence In National Government  \n",
       "0         0.769770         0.238012                           0.532063  \n",
       "1         0.676886         0.260380                           0.551705  \n",
       "2         0.769921         0.301780                           0.340625  \n",
       "3         0.783299         0.233278                           0.442818  \n",
       "4         0.638764         0.257949                           0.282911  "
      ]
     },
     "execution_count": 4,
     "metadata": {},
     "output_type": "execute_result"
    }
   ],
   "source": [
    "# happiness = pd.read_csv(\"Resources/WHR 2005 to 2023.csv\")\n",
    "data_without_crash = pd.read_csv(\"Resources/WHR 2005 to 2023 No Crash.csv\")\n",
    "data_without_crash_total = pd.read_csv(\"Resources/WHR 2005 to 2023 No Crash.csv\")\n",
    "# happiness = pd.read_csv(\"Resources/WHR 2005 to 2023 No Pandemic.csv\")\n",
    "# happiness = pd.read_csv(\"Resources/WHR 2005 to 2023 Utopia.csv\")\n",
    "# happiness_total = pd.read_csv(\"Resources/WHR 2005 to 2023.csv\")\n",
    "# happiness_ref = pd.read_csv(\"Resources/2019_global_happiness_reference.csv\")\n",
    "data_without_crash.head()"
   ]
  },
  {
   "cell_type": "code",
   "execution_count": 5,
   "id": "d160f10e",
   "metadata": {},
   "outputs": [
    {
     "ename": "KeyError",
     "evalue": "'Happiness Ladder'",
     "output_type": "error",
     "traceback": [
      "\u001b[1;31m---------------------------------------------------------------------------\u001b[0m",
      "\u001b[1;31mKeyError\u001b[0m                                  Traceback (most recent call last)",
      "File \u001b[1;32m~\\anaconda3\\envs\\dev\\lib\\site-packages\\pandas\\core\\indexes\\base.py:3653\u001b[0m, in \u001b[0;36mIndex.get_loc\u001b[1;34m(self, key)\u001b[0m\n\u001b[0;32m   3652\u001b[0m \u001b[38;5;28;01mtry\u001b[39;00m:\n\u001b[1;32m-> 3653\u001b[0m     \u001b[38;5;28;01mreturn\u001b[39;00m \u001b[38;5;28;43mself\u001b[39;49m\u001b[38;5;241;43m.\u001b[39;49m\u001b[43m_engine\u001b[49m\u001b[38;5;241;43m.\u001b[39;49m\u001b[43mget_loc\u001b[49m\u001b[43m(\u001b[49m\u001b[43mcasted_key\u001b[49m\u001b[43m)\u001b[49m\n\u001b[0;32m   3654\u001b[0m \u001b[38;5;28;01mexcept\u001b[39;00m \u001b[38;5;167;01mKeyError\u001b[39;00m \u001b[38;5;28;01mas\u001b[39;00m err:\n",
      "File \u001b[1;32m~\\anaconda3\\envs\\dev\\lib\\site-packages\\pandas\\_libs\\index.pyx:147\u001b[0m, in \u001b[0;36mpandas._libs.index.IndexEngine.get_loc\u001b[1;34m()\u001b[0m\n",
      "File \u001b[1;32m~\\anaconda3\\envs\\dev\\lib\\site-packages\\pandas\\_libs\\index.pyx:176\u001b[0m, in \u001b[0;36mpandas._libs.index.IndexEngine.get_loc\u001b[1;34m()\u001b[0m\n",
      "File \u001b[1;32mpandas\\_libs\\hashtable_class_helper.pxi:7080\u001b[0m, in \u001b[0;36mpandas._libs.hashtable.PyObjectHashTable.get_item\u001b[1;34m()\u001b[0m\n",
      "File \u001b[1;32mpandas\\_libs\\hashtable_class_helper.pxi:7088\u001b[0m, in \u001b[0;36mpandas._libs.hashtable.PyObjectHashTable.get_item\u001b[1;34m()\u001b[0m\n",
      "\u001b[1;31mKeyError\u001b[0m: 'Happiness Ladder'",
      "\nThe above exception was the direct cause of the following exception:\n",
      "\u001b[1;31mKeyError\u001b[0m                                  Traceback (most recent call last)",
      "Cell \u001b[1;32mIn[5], line 2\u001b[0m\n\u001b[0;32m      1\u001b[0m \u001b[38;5;66;03m# Calculate the average happiness for the years 2006 and 2007\u001b[39;00m\n\u001b[1;32m----> 2\u001b[0m average_2006_2007 \u001b[38;5;241m=\u001b[39m \u001b[43mdata_without_crash\u001b[49m\u001b[43m[\u001b[49m\u001b[43mdata_without_crash\u001b[49m\u001b[43m[\u001b[49m\u001b[38;5;124;43m'\u001b[39;49m\u001b[38;5;124;43mYear\u001b[39;49m\u001b[38;5;124;43m'\u001b[39;49m\u001b[43m]\u001b[49m\u001b[38;5;241;43m.\u001b[39;49m\u001b[43misin\u001b[49m\u001b[43m(\u001b[49m\u001b[43m[\u001b[49m\u001b[38;5;241;43m2006\u001b[39;49m\u001b[43m,\u001b[49m\u001b[43m \u001b[49m\u001b[38;5;241;43m2007\u001b[39;49m\u001b[43m]\u001b[49m\u001b[43m)\u001b[49m\u001b[43m]\u001b[49m\u001b[43m[\u001b[49m\u001b[38;5;124;43m'\u001b[39;49m\u001b[38;5;124;43mHappiness Ladder\u001b[39;49m\u001b[38;5;124;43m'\u001b[39;49m\u001b[43m]\u001b[49m\u001b[38;5;241m.\u001b[39mmean()\n\u001b[0;32m      4\u001b[0m \u001b[38;5;66;03m# Calculate the average happiness for the years 2010 and 2011\u001b[39;00m\n\u001b[0;32m      5\u001b[0m average_2010_2011 \u001b[38;5;241m=\u001b[39m data_without_crash[data_without_crash[\u001b[38;5;124m'\u001b[39m\u001b[38;5;124mYear\u001b[39m\u001b[38;5;124m'\u001b[39m]\u001b[38;5;241m.\u001b[39misin([\u001b[38;5;241m2010\u001b[39m, \u001b[38;5;241m2011\u001b[39m])][\u001b[38;5;124m'\u001b[39m\u001b[38;5;124mHappiness Ladder\u001b[39m\u001b[38;5;124m'\u001b[39m]\u001b[38;5;241m.\u001b[39mmean()\n",
      "File \u001b[1;32m~\\anaconda3\\envs\\dev\\lib\\site-packages\\pandas\\core\\frame.py:3761\u001b[0m, in \u001b[0;36mDataFrame.__getitem__\u001b[1;34m(self, key)\u001b[0m\n\u001b[0;32m   3759\u001b[0m \u001b[38;5;28;01mif\u001b[39;00m \u001b[38;5;28mself\u001b[39m\u001b[38;5;241m.\u001b[39mcolumns\u001b[38;5;241m.\u001b[39mnlevels \u001b[38;5;241m>\u001b[39m \u001b[38;5;241m1\u001b[39m:\n\u001b[0;32m   3760\u001b[0m     \u001b[38;5;28;01mreturn\u001b[39;00m \u001b[38;5;28mself\u001b[39m\u001b[38;5;241m.\u001b[39m_getitem_multilevel(key)\n\u001b[1;32m-> 3761\u001b[0m indexer \u001b[38;5;241m=\u001b[39m \u001b[38;5;28;43mself\u001b[39;49m\u001b[38;5;241;43m.\u001b[39;49m\u001b[43mcolumns\u001b[49m\u001b[38;5;241;43m.\u001b[39;49m\u001b[43mget_loc\u001b[49m\u001b[43m(\u001b[49m\u001b[43mkey\u001b[49m\u001b[43m)\u001b[49m\n\u001b[0;32m   3762\u001b[0m \u001b[38;5;28;01mif\u001b[39;00m is_integer(indexer):\n\u001b[0;32m   3763\u001b[0m     indexer \u001b[38;5;241m=\u001b[39m [indexer]\n",
      "File \u001b[1;32m~\\anaconda3\\envs\\dev\\lib\\site-packages\\pandas\\core\\indexes\\base.py:3655\u001b[0m, in \u001b[0;36mIndex.get_loc\u001b[1;34m(self, key)\u001b[0m\n\u001b[0;32m   3653\u001b[0m     \u001b[38;5;28;01mreturn\u001b[39;00m \u001b[38;5;28mself\u001b[39m\u001b[38;5;241m.\u001b[39m_engine\u001b[38;5;241m.\u001b[39mget_loc(casted_key)\n\u001b[0;32m   3654\u001b[0m \u001b[38;5;28;01mexcept\u001b[39;00m \u001b[38;5;167;01mKeyError\u001b[39;00m \u001b[38;5;28;01mas\u001b[39;00m err:\n\u001b[1;32m-> 3655\u001b[0m     \u001b[38;5;28;01mraise\u001b[39;00m \u001b[38;5;167;01mKeyError\u001b[39;00m(key) \u001b[38;5;28;01mfrom\u001b[39;00m \u001b[38;5;21;01merr\u001b[39;00m\n\u001b[0;32m   3656\u001b[0m \u001b[38;5;28;01mexcept\u001b[39;00m \u001b[38;5;167;01mTypeError\u001b[39;00m:\n\u001b[0;32m   3657\u001b[0m     \u001b[38;5;66;03m# If we have a listlike key, _check_indexing_error will raise\u001b[39;00m\n\u001b[0;32m   3658\u001b[0m     \u001b[38;5;66;03m#  InvalidIndexError. Otherwise we fall through and re-raise\u001b[39;00m\n\u001b[0;32m   3659\u001b[0m     \u001b[38;5;66;03m#  the TypeError.\u001b[39;00m\n\u001b[0;32m   3660\u001b[0m     \u001b[38;5;28mself\u001b[39m\u001b[38;5;241m.\u001b[39m_check_indexing_error(key)\n",
      "\u001b[1;31mKeyError\u001b[0m: 'Happiness Ladder'"
     ]
    }
   ],
   "source": [
    "# Calculate the average happiness for the years 2006 and 2007\n",
    "average_2006_2007 = data_without_crash[data_without_crash['Year'].isin([2006, 2007])]['Happiness Ladder'].mean()\n",
    "\n",
    "# Calculate the average happiness for the years 2010 and 2011\n",
    "average_2010_2011 = data_without_crash[data_without_crash['Year'].isin([2010, 2011])]['Happiness Ladder'].mean()\n",
    "\n",
    "# Create a DataFrame for the missing years (2008 and 2009)\n",
    "missing_years_data = pd.DataFrame({\n",
    "    'Year': [2008, 2009],\n",
    "    'Happiness Ladder': [average_2006_2007, average_2010_2011]\n",
    "})\n",
    "\n",
    "# Merge the missing years data with your original dataset\n",
    "filled_data = pd.concat([data_without_crash, missing_years_data]).sort_values('Year')"
   ]
  },
  {
   "cell_type": "code",
   "execution_count": null,
   "id": "c5c12387",
   "metadata": {
    "scrolled": true
   },
   "outputs": [],
   "source": [
    "# happiness_total.info()\n",
    "data_without_crash.info()"
   ]
  },
  {
   "cell_type": "code",
   "execution_count": null,
   "id": "0f4bdc15",
   "metadata": {
    "scrolled": true
   },
   "outputs": [],
   "source": [
    "# print(\"Mean Squared Error:\", mse)\n",
    "# print(\"R^2 Score:\", r2)"
   ]
  },
  {
   "cell_type": "code",
   "execution_count": null,
   "id": "d713f786",
   "metadata": {},
   "outputs": [],
   "source": [
    "data_without_crash.shape"
   ]
  },
  {
   "cell_type": "code",
   "execution_count": null,
   "id": "58bdf243",
   "metadata": {},
   "outputs": [],
   "source": [
    "data_without_crash.dtypes"
   ]
  },
  {
   "cell_type": "code",
   "execution_count": null,
   "id": "e357d7d8",
   "metadata": {},
   "outputs": [],
   "source": [
    "data_without_crash.isnull().sum()"
   ]
  },
  {
   "cell_type": "code",
   "execution_count": null,
   "id": "0d90672d",
   "metadata": {
    "scrolled": true
   },
   "outputs": [],
   "source": [
    "# sns.pairplot(happiness)"
   ]
  },
  {
   "cell_type": "code",
   "execution_count": null,
   "id": "0eec13bb",
   "metadata": {
    "scrolled": false
   },
   "outputs": [],
   "source": [
    "data_without_crash_ref.info()"
   ]
  },
  {
   "cell_type": "code",
   "execution_count": null,
   "id": "dc0a63a1",
   "metadata": {},
   "outputs": [],
   "source": [
    "data_without_crash_ref.head(20)"
   ]
  },
  {
   "cell_type": "code",
   "execution_count": null,
   "id": "3f11b022",
   "metadata": {},
   "outputs": [],
   "source": [
    "cols_to_plot = ['']"
   ]
  },
  {
   "cell_type": "code",
   "execution_count": null,
   "id": "a3a56129",
   "metadata": {},
   "outputs": [],
   "source": [
    "# print(\"Mean Squared Error:\", mse)\n",
    "# print(\"R^2 Score:\", r2)"
   ]
  },
  {
   "cell_type": "code",
   "execution_count": null,
   "id": "8f63245e",
   "metadata": {
    "scrolled": true
   },
   "outputs": [],
   "source": [
    "data_without_crash_total.head(50)"
   ]
  },
  {
   "cell_type": "code",
   "execution_count": null,
   "id": "21aa4249",
   "metadata": {},
   "outputs": [],
   "source": [
    "# imputer = SimpleImputer(strategy='mean')\n",
    "# imputer.fit(happiness.select_dtypes(include=np.number))\n",
    "\n",
    "# imputer = SimpleImputer(strategy='mean')\n",
    "# X_imputed = imputer.fit_transform(X)"
   ]
  },
  {
   "cell_type": "code",
   "execution_count": null,
   "id": "3a5db99c",
   "metadata": {},
   "outputs": [],
   "source": [
    "# happiness_imputed = pd.DataFrame(imputer.transform(happiness.select_dtypes(include=np.number)), columns=happiness.select_dtypes(include=np.number).columns)"
   ]
  },
  {
   "cell_type": "code",
   "execution_count": null,
   "id": "253f10cd",
   "metadata": {
    "scrolled": true
   },
   "outputs": [],
   "source": [
    "# categorical_cols = happiness.select_dtypes(exclude=np.number).columns\n",
    "# happiness_imputed[categorical_cols] = happiness[categorical_cols]"
   ]
  },
  {
   "cell_type": "code",
   "execution_count": null,
   "id": "51d37231",
   "metadata": {},
   "outputs": [],
   "source": [
    "# happiness_imputed.isnull().sum()"
   ]
  },
  {
   "cell_type": "code",
   "execution_count": null,
   "id": "f8e8002c",
   "metadata": {},
   "outputs": [],
   "source": [
    "# happiness_imputed.to_csv(\"Resources/preprocessed_happiness_data.csv\", index=False)"
   ]
  },
  {
   "cell_type": "code",
   "execution_count": null,
   "id": "b57a5d10",
   "metadata": {},
   "outputs": [],
   "source": [
    "# X = happiness_imputed.drop(columns=['Life Ladder'])\n",
    "# y = happiness_imputed['Life Ladder']"
   ]
  },
  {
   "cell_type": "code",
   "execution_count": null,
   "id": "ac235195",
   "metadata": {},
   "outputs": [],
   "source": [
    "# X_train, X_test, y_train, y_test = train_test_split(X, y, test_size=0.2, random_state=42)"
   ]
  },
  {
   "cell_type": "code",
   "execution_count": null,
   "id": "b7eba3b9",
   "metadata": {
    "scrolled": false
   },
   "outputs": [],
   "source": [
    "# print(\"X_train data types:\")\n",
    "# print(X_train.dtypes)\n",
    "# print(\"\\n\")\n",
    "# print(\"y_train data types:\")\n",
    "# print(y_train.dtypes)"
   ]
  },
  {
   "cell_type": "code",
   "execution_count": null,
   "id": "bbd21b6e",
   "metadata": {},
   "outputs": [],
   "source": [
    "# # Perform one-hot encoding on categorical variables\n",
    "# happiness_encoded = pd.get_dummies(happiness_imputed, columns=['Country Name', 'Regional Indicator'])"
   ]
  },
  {
   "cell_type": "code",
   "execution_count": null,
   "id": "fcb48e9f",
   "metadata": {},
   "outputs": [],
   "source": [
    "# from sklearn.linear_model import LinearRegression\n",
    "\n",
    "# # Define the model\n",
    "# model = LinearRegression()"
   ]
  },
  {
   "cell_type": "code",
   "execution_count": null,
   "id": "68823c7c",
   "metadata": {},
   "outputs": [],
   "source": [
    "# # Encode categorical variables using one-hot encoding\n",
    "# X_encoded = pd.get_dummies(X)"
   ]
  },
  {
   "cell_type": "code",
   "execution_count": null,
   "id": "175b39d5",
   "metadata": {},
   "outputs": [],
   "source": [
    "# # Split the encoded data into training and testing sets\n",
    "# X_train_encoded, X_test_encoded, y_train, y_test = train_test_split(X_encoded, y, test_size=0.2, random_state=42)"
   ]
  },
  {
   "cell_type": "code",
   "execution_count": null,
   "id": "8bae73a6",
   "metadata": {},
   "outputs": [],
   "source": [
    "# # Train the model\n",
    "# model.fit(X_train_encoded, y_train)"
   ]
  },
  {
   "cell_type": "code",
   "execution_count": null,
   "id": "56ad1bf0",
   "metadata": {},
   "outputs": [],
   "source": [
    "# # Evaluate the model\n",
    "# y_pred = model.predict(X_test_encoded)\n",
    "# mse = mean_squared_error(y_test, y_pred)\n",
    "# r2 = r2_score(y_test, y_pred)\n",
    "\n",
    "# print(\"Mean Squared Error:\", mse)\n",
    "# print(\"R^2 Score:\", r2)"
   ]
  },
  {
   "cell_type": "code",
   "execution_count": null,
   "id": "b5d8e284",
   "metadata": {},
   "outputs": [],
   "source": [
    "# # Train the model\n",
    "# model.fit(X_train_encoded, y_train)"
   ]
  },
  {
   "cell_type": "code",
   "execution_count": null,
   "id": "1ea07dac",
   "metadata": {},
   "outputs": [],
   "source": [
    "# from sklearn.model_selection import GridSearchCV\n",
    "# from sklearn.linear_model import LinearRegression\n",
    "\n",
    "# # Define the grid of hyperparameters\n",
    "# param_grid = {\n",
    "#     'fit_intercept': [True, False]\n",
    "# }\n",
    "\n",
    "# # Initialize LinearRegression model\n",
    "# model = LinearRegression()\n",
    "\n",
    "# # Initialize GridSearchCV\n",
    "# grid_search = GridSearchCV(estimator=model, param_grid=param_grid, cv=5)\n",
    "\n",
    "# # Fit the GridSearchCV object to the data\n",
    "# grid_search.fit(X_train_encoded, y_train)\n",
    "\n",
    "# # Get the best model\n",
    "# best_model = grid_search.best_estimator_\n",
    "\n",
    "# # Print the best hyperparameters\n",
    "# print(\"Best Hyperparameters:\", grid_search.best_params_)\n",
    "\n",
    "# # Evaluate the best model\n",
    "# y_pred_best = best_model.predict(X_test_encoded)\n",
    "# mse_best = mean_squared_error(y_test, y_pred_best)\n",
    "# r2_best = r2_score(y_test, y_pred_best)\n",
    "\n",
    "# print(\"Mean Squared Error (Best Model):\", mse_best)\n",
    "# print(\"R^2 Score (Best Model):\", r2_best)"
   ]
  },
  {
   "cell_type": "code",
   "execution_count": null,
   "id": "2e82e3ac",
   "metadata": {},
   "outputs": [],
   "source": [
    "from prophet import Prophet\n",
    "\n",
    "# Create a Prophet model\n",
    "prophet_model = Prophet()"
   ]
  },
  {
   "cell_type": "code",
   "execution_count": null,
   "id": "75366090",
   "metadata": {},
   "outputs": [],
   "source": [
    "model = Prophet()"
   ]
  },
  {
   "cell_type": "code",
   "execution_count": null,
   "id": "a8343c44",
   "metadata": {
    "scrolled": true
   },
   "outputs": [],
   "source": [
    "print(data_without_crash_total.head())\n",
    "print(data_without_crash_total.dtypes)"
   ]
  },
  {
   "cell_type": "code",
   "execution_count": null,
   "id": "198cc2b5",
   "metadata": {},
   "outputs": [],
   "source": []
  },
  {
   "cell_type": "code",
   "execution_count": null,
   "id": "b28866ac",
   "metadata": {
    "scrolled": false
   },
   "outputs": [],
   "source": [
    "# Convert 'Year' column to datetime format and rename it to 'ds'\n",
    "data_without_crash['ds'] = pd.to_datetime(data_without_crash['Year'], format='%Y')\n",
    "\n",
    "# Select a column containing the target variable and rename it to 'y'\n",
    "data_without_crash.rename(columns={'Life Ladder': 'y'}, inplace=True)\n",
    "\n",
    "# Check the first few rows and data types again to verify the changes\n",
    "print(data_without_crash.head())\n",
    "print(data_without_crash.dtypes)"
   ]
  },
  {
   "cell_type": "code",
   "execution_count": null,
   "id": "7ddc73c6",
   "metadata": {},
   "outputs": [],
   "source": [
    "# # Rename the datetime column to 'ds'\n",
    "# df_test.rename(columns={'Year': 'ds'}, inplace=True)\n",
    "\n",
    "# # Evaluate the model on the test data\n",
    "# y_pred_test = model.predict(X_test_encoded)\n",
    "# mse_test = mean_squared_error(y_test, y_pred_test)\n",
    "# r2_test = r2_score(y_test, y_pred_test)\n",
    "# print(\"Test Mean Squared Error:\", mse_test)\n",
    "# print(\"Test R^2 Score:\", r2_test)"
   ]
  },
  {
   "cell_type": "code",
   "execution_count": null,
   "id": "c2be6864",
   "metadata": {},
   "outputs": [],
   "source": [
    "# # Rename the datetime column to 'ds'\n",
    "# df_test.rename(columns={'date': 'ds'}, inplace=True)\n",
    "\n",
    "# # Evaluate the model on the training data\n",
    "# y_pred_train = model.predict(X_train_encoded)\n",
    "# mse_train = mean_squared_error(y_train, y_pred_train)\n",
    "# r2_train = r2_score(y_train, y_pred_train)\n",
    "# print(\"Training Mean Squared Error:\", mse_train)\n",
    "# print(\"Training R^2 Score:\", r2_train)\n",
    "\n",
    "# # Evaluate the model on the training data\n",
    "# y_pred_train = model.predict(X_train_encoded)\n",
    "# mse_train = mean_squared_error(y_train, y_pred_train)\n",
    "# r2_train = r2_score(y_train, y_pred_train)\n",
    "# print(\"Training Mean Squared Error:\", mse_train)\n",
    "# print(\"Training R^2 Score:\", r2_train)"
   ]
  },
  {
   "cell_type": "code",
   "execution_count": null,
   "id": "da814c26",
   "metadata": {
    "scrolled": true
   },
   "outputs": [],
   "source": [
    "# Fit the Prophet model to the data\n",
    "model.fit(data_without_crash)"
   ]
  },
  {
   "cell_type": "code",
   "execution_count": null,
   "id": "efc5d921",
   "metadata": {},
   "outputs": [],
   "source": [
    "# Create a DataFrame for the next X years\n",
    "future_dates = model.make_future_dataframe(periods=30, freq='Y')"
   ]
  },
  {
   "cell_type": "code",
   "execution_count": null,
   "id": "eec1f8ee",
   "metadata": {},
   "outputs": [],
   "source": [
    "# Make predictions for the future dates\n",
    "forecast = model.predict(future_dates)"
   ]
  },
  {
   "cell_type": "code",
   "execution_count": null,
   "id": "7289f26c",
   "metadata": {
    "scrolled": true
   },
   "outputs": [],
   "source": [
    "# Plot the forecast\n",
    "fig = model.plot(forecast)"
   ]
  },
  {
   "cell_type": "code",
   "execution_count": null,
   "id": "5b3cceb6",
   "metadata": {},
   "outputs": [],
   "source": [
    "import matplotlib.pyplot as plt\n",
    "from mlxtend.plotting import plot_decision_regions\n",
    "from sklearn.datasets import make_classification\n",
    "from sklearn.ensemble import RandomForestClassifier\n",
    "from sklearn.neighbors import KNeighborsClassifier\n",
    "\n",
    "# Generate synthetic dataset\n",
    "X, y = make_classification(n_features=2, n_redundant=0, n_informative=2,\n",
    "                           random_state=1, n_clusters_per_class=1)\n",
    "\n",
    "# Define classifiers\n",
    "rf_clf = RandomForestClassifier(n_estimators=100, random_state=1)\n",
    "knn_clf = KNeighborsClassifier(n_neighbors=3)\n",
    "\n",
    "# Fit classifiers\n",
    "rf_clf.fit(X, y)\n",
    "knn_clf.fit(X, y)\n",
    "\n",
    "# Plot decision boundaries\n",
    "plt.figure(figsize=(12, 6))\n",
    "\n",
    "plt.subplot(1, 2, 1)\n",
    "plot_decision_regions(X, y, clf=rf_clf, legend=2)\n",
    "plt.title('Decision Boundaries - Random Forest')\n",
    "\n",
    "plt.subplot(1, 2, 2)\n",
    "plot_decision_regions(X, y, clf=knn_clf, legend=2)\n",
    "plt.title('Decision Boundaries - k-Nearest Neighbors')\n",
    "\n",
    "plt.show()"
   ]
  },
  {
   "cell_type": "code",
   "execution_count": null,
   "id": "1939f229",
   "metadata": {},
   "outputs": [],
   "source": [
    "from sklearn.svm import SVC\n",
    "from sklearn.linear_model import LogisticRegression\n",
    "\n",
    "# Define classifiers\n",
    "svm_clf = SVC(kernel='linear', C=1.0, random_state=1)\n",
    "lr_clf = LogisticRegression(random_state=1)\n",
    "\n",
    "# Fit classifiers\n",
    "svm_clf.fit(X, y)\n",
    "lr_clf.fit(X, y)\n",
    "\n",
    "# Plot decision boundaries\n",
    "plt.figure(figsize=(12, 6))\n",
    "\n",
    "plt.subplot(1, 2, 1)\n",
    "plot_decision_regions(X, y, clf=svm_clf, legend=2)\n",
    "plt.title('Decision Boundaries - Support Vector Machine')\n",
    "\n",
    "plt.subplot(1, 2, 2)\n",
    "plot_decision_regions(X, y, clf=lr_clf, legend=2)\n",
    "plt.title('Decision Boundaries - Logistic Regression')\n",
    "\n",
    "plt.show()"
   ]
  },
  {
   "cell_type": "code",
   "execution_count": null,
   "id": "a0a64817",
   "metadata": {},
   "outputs": [],
   "source": [
    "# # Evaluate the model on the training data\n",
    "# y_pred_train = model.predict(X_train_encoded)\n",
    "# mse_train = mean_squared_error(y_train, y_pred_train)\n",
    "# r2_train = r2_score(y_train, y_pred_train)\n",
    "# print(\"Training Mean Squared Error:\", mse_train)\n",
    "# print(\"Training R^2 Score:\", r2_train)"
   ]
  },
  {
   "cell_type": "code",
   "execution_count": null,
   "id": "fbd24287",
   "metadata": {},
   "outputs": [],
   "source": [
    "# print(\"Mean Squared Error (Best Model):\", mse_best)\n",
    "# print(\"R^2 Score (Best Model):\", r2_best)"
   ]
  },
  {
   "cell_type": "code",
   "execution_count": null,
   "id": "301f3f6c",
   "metadata": {},
   "outputs": [],
   "source": [
    "# # Evaluate the model\n",
    "# y_pred = model.predict(X_test_encoded)\n",
    "# mse = mean_squared_error(y_test, y_pred)\n",
    "# r2 = r2_score(y_test, y_pred)\n",
    "\n",
    "# print(\"Mean Squared Error:\", mse)\n",
    "# print(\"R^2 Score:\", r2)"
   ]
  }
 ],
 "metadata": {
  "kernelspec": {
   "display_name": "Python 3 (ipykernel)",
   "language": "python",
   "name": "python3"
  },
  "language_info": {
   "codemirror_mode": {
    "name": "ipython",
    "version": 3
   },
   "file_extension": ".py",
   "mimetype": "text/x-python",
   "name": "python",
   "nbconvert_exporter": "python",
   "pygments_lexer": "ipython3",
   "version": "3.10.13"
  }
 },
 "nbformat": 4,
 "nbformat_minor": 5
}
