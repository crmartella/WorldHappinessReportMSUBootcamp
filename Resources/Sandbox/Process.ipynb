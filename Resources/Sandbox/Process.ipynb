{
 "cells": [
  {
   "cell_type": "code",
   "execution_count": 1,
   "id": "3e20e520",
   "metadata": {},
   "outputs": [
    {
     "ename": "ModuleNotFoundError",
     "evalue": "No module named 'Loading_Data'",
     "output_type": "error",
     "traceback": [
      "\u001b[1;31m---------------------------------------------------------------------------\u001b[0m",
      "\u001b[1;31mModuleNotFoundError\u001b[0m                       Traceback (most recent call last)",
      "Cell \u001b[1;32mIn[1], line 3\u001b[0m\n\u001b[0;32m      1\u001b[0m \u001b[38;5;28;01mimport\u001b[39;00m \u001b[38;5;21;01margparse\u001b[39;00m\n\u001b[0;32m      2\u001b[0m \u001b[38;5;28;01mimport\u001b[39;00m \u001b[38;5;21;01msys\u001b[39;00m\n\u001b[1;32m----> 3\u001b[0m \u001b[38;5;28;01mimport\u001b[39;00m \u001b[38;5;21;01mLoading_Data\u001b[39;00m\n\u001b[0;32m      5\u001b[0m START \u001b[38;5;241m=\u001b[39m \u001b[38;5;241m2015\u001b[39m\n\u001b[0;32m      6\u001b[0m END \u001b[38;5;241m=\u001b[39m \u001b[38;5;241m2023\u001b[39m\n",
      "\u001b[1;31mModuleNotFoundError\u001b[0m: No module named 'Loading_Data'"
     ]
    }
   ],
   "source": [
    "import argparse\n",
    "import sys\n",
    "import Loading_Data\n",
    "\n",
    "START = 2015\n",
    "END = 2023"
   ]
  },
  {
   "cell_type": "code",
   "execution_count": null,
   "id": "e64a55d8",
   "metadata": {},
   "outputs": [],
   "source": [
    "def parse_arguments():\n",
    "    \"\"\"Parses the command line arguments provided by the user in order to use\n",
    "       the correct start and end years, if specified\n",
    "\n",
    "    Returns:\n",
    "        int: The first year to look at\n",
    "        int: The last year to look at\n",
    "    \"\"\"\n",
    "    parser = argparse.ArgumentParser(description = \"run linear regression on\" +\\\n",
    "        \" happiness data\")\n",
    "    parser.add_argument(\"-s\", \"--year_start\", default = START, type = int,\\\n",
    "        help = \"the first year of happiness data to look at (\" + str(START) +\\\n",
    "            \" or later)\", metavar = \"\")\n",
    "    parser.add_argument(\"-e\", \"--year_end\", default = END, type = int,\\\n",
    "        help = \"the last year of happiness data to look at (\" + str(END) +\\\n",
    "            \" or earlier)\", metavar = \"\")\n",
    "    parser.add_argument(\"-d\", \"--seed\", default = None, type = int,\\\n",
    "        help = \"the seed to run the models at\", metavar = \"\")\n",
    "    arguments = parser.parse_args()\n",
    "\n",
    "    if (arguments.year_start < START) or\\\n",
    "        (arguments.year_start > END):\n",
    "        print(\"Invalid start year\")\n",
    "        parser.print_help()\n",
    "        sys.exit()\n",
    "\n",
    "    if (arguments.year_end < START) or\\\n",
    "        (arguments.year_end > END):\n",
    "        print(\"Invalid end year\")\n",
    "        parser.print_help()\n",
    "        sys.exit()\n",
    "\n",
    "    if arguments.year_end < arguments.year_start:\n",
    "        print(\"Start year cannot be after end year\")\n",
    "        parser.print_help()\n",
    "        sys.exit()\n",
    "    \n",
    "    return arguments.year_start, arguments.year_end, arguments.seed"
   ]
  },
  {
   "cell_type": "code",
   "execution_count": null,
   "id": "95f1e1f7",
   "metadata": {},
   "outputs": [],
   "source": [
    "def read_csv(start, end):\n",
    "    \"\"\"Uses the start and end years to determine how much happiness data to\n",
    "       collect for the model\n",
    "\n",
    "    Args:\n",
    "        start (int): The first year of happiness to look at\n",
    "        end (int): The last year of happiness to look at\n",
    "\n",
    "    Returns:\n",
    "        pandas.DataFrame: The DataFrame storing the happiness data of over 150\n",
    "                          countries over (end - start + 1) years\n",
    "    \"\"\"\n",
    "    data = load_data.load_data(start, end)\n",
    "    return data\n",
    "\n",
    "if __name__ == \"__main__\":\n",
    "    start, end, seed = parse_arguments()\n",
    "    print(\"year_start = {}, year_end = {}, and seed = {}\".format(start, end,\\\n",
    "        seed))"
   ]
  }
 ],
 "metadata": {
  "kernelspec": {
   "display_name": "Python 3 (ipykernel)",
   "language": "python",
   "name": "python3"
  },
  "language_info": {
   "codemirror_mode": {
    "name": "ipython",
    "version": 3
   },
   "file_extension": ".py",
   "mimetype": "text/x-python",
   "name": "python",
   "nbconvert_exporter": "python",
   "pygments_lexer": "ipython3",
   "version": "3.10.13"
  }
 },
 "nbformat": 4,
 "nbformat_minor": 5
}
