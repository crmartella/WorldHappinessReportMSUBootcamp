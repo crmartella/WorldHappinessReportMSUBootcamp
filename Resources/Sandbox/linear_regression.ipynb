{
 "cells": [
  {
   "cell_type": "code",
   "execution_count": 1,
   "id": "a1a6e0d1",
   "metadata": {},
   "outputs": [],
   "source": [
    "# model implementation from scikit-learn\n",
    "from sklearn.linear_model import LinearRegression\n",
    "\n",
    "# plotting functions and packages\n",
    "import matplotlib.pyplot as plt\n",
    "\n",
    "# data handling\n",
    "import pandas as pd\n",
    "import numpy as np"
   ]
  },
  {
   "cell_type": "code",
   "execution_count": 2,
   "id": "00b85359",
   "metadata": {},
   "outputs": [],
   "source": [
    "class LinearRegressionModel():\n",
    "    \"\"\"A linear regression model using scikit-learn's implementation\"\"\""
   ]
  },
  {
   "cell_type": "code",
   "execution_count": 4,
   "id": "e3522169",
   "metadata": {},
   "outputs": [],
   "source": [
    "    def __init__(self, test_data, test_labels, train_data, train_labels, start,\\\n",
    "        end):\n",
    "        # initialize the model and split the data into train and test data to be\n",
    "        # ready for training and testing\n",
    "        self.model = LinearRegression()\n",
    "        self.test_data = test_data\n",
    "        self.test_labels = test_labels\n",
    "        self.train_data = train_data\n",
    "        self.train_labels = train_labels\n",
    "        self.start = start\n",
    "        self.end = end\n",
    "    \n",
    "    def train(self):\n",
    "        \"\"\"Trains the model using the training data and labels\"\"\"\n",
    "        self.model.fit(self.train_data, self.train_labels[:, [-1]])\n",
    "    \n",
    "    def predict(self):\n",
    "        \"\"\"Predicts using test data\"\"\"\n",
    "        self.predictions = self.model.predict(self.test_data)\n",
    "    "
   ]
  },
  {
   "cell_type": "code",
   "execution_count": 5,
   "id": "1ce89b04",
   "metadata": {},
   "outputs": [],
   "source": [
    "    def r_squared(self):\n",
    "        \"\"\"\n",
    "        Computes the R^2 coefficient to indicate how closely related the testing\n",
    "        data and test labels are related\n",
    "\n",
    "        Returns:\n",
    "            float: The R^2 coefficient\n",
    "        \"\"\"\n",
    "        r_squared = self.model.score(self.test_data, self.test_labels[:, [-1]])\n",
    "        return r_squared"
   ]
  },
  {
   "cell_type": "code",
   "execution_count": 6,
   "id": "8790524a",
   "metadata": {},
   "outputs": [],
   "source": [
    "    def weights(self):\n",
    "        \"\"\"Gets the weights / coefficients of this instance of the Linear\n",
    "           Regression model\n",
    "\n",
    "        Returns:\n",
    "            list: A list of weights / coefficients of this instance of the\n",
    "                  Linear Regression Model\n",
    "        \"\"\"\n",
    "        weights = self.model.coef_\n",
    "        return weights"
   ]
  },
  {
   "cell_type": "code",
   "execution_count": 7,
   "id": "bff9ec50",
   "metadata": {},
   "outputs": [],
   "source": [
    "     def graph(self):\n",
    "        \"\"\"Graphs the model's predictions vs the actual labels\"\"\"\n",
    "        regions = self.test_labels[:, 2]\n",
    "        regions_colors = []\n",
    "        regions_dictionary = {}\n",
    "        number = 0\n",
    "\n",
    "        for region in np.unique(regions):\n",
    "            # assigning each region a different number\n",
    "            regions_dictionary[region] = number\n",
    "            number += 1\n",
    "        \n",
    "        for region in regions:\n",
    "            # making sure that each region will get a color\n",
    "            regions_colors.append(regions_dictionary[region])\n",
    "        \n",
    "        # make sure that the subplot and figure can be accessible for hovering\n",
    "        # and annotations\n",
    "        self.figure, self.ax = plt.subplots()\n",
    "        self.plot = plt.scatter(self.predictions, self.test_labels[:, [-1]],\\\n",
    "            label = \"A Region\",\\\n",
    "            c = regions_colors, cmap = \"tab10\")\n",
    "        self.annotate =\\\n",
    "            self.ax.annotate(\"\", xy = (0, 0), xytext = (20, 20),\\\n",
    "                textcoords = \"offset points\",\\\n",
    "                bbox = dict(boxstyle = \"round\", fc = \"w\"),\\\n",
    "                arrowprops = dict(arrowstyle = \"->\"))\n",
    "        self.annotate.set_visible(False)\n",
    "\n",
    "        # show the ideal line, axis labels, title, and legend\n",
    "        plt.plot([2.8, 7.5], [2.8, 7.5], color = \"black\", label = \"y = x\")\n",
    "        plt.xlabel(\"Predictions\")\n",
    "        plt.ylabel(\"Labels\")\n",
    "        plt.title(\"Happiness Scores – Linear Regression (\" + str(self.start)\\\n",
    "            + \" through \" + str(self.end) + \")\")\n",
    "        legend1 =\\\n",
    "            self.ax.legend(*self.plot\\\n",
    "                .legend_elements(), loc = \"upper left\", title = \"Region\")\n",
    "        self.ax.add_artist(legend1)\n",
    "        self.figure.canvas.mpl_connect(\"motion_notify_event\", self.hover)\n",
    "        plt.show()"
   ]
  },
  {
   "cell_type": "code",
   "execution_count": 8,
   "id": "f2f2179e",
   "metadata": {},
   "outputs": [],
   "source": [
    "    def update_annotation(self, index):\n",
    "        \"\"\"Updates the annotation and displays information upon hovering\n",
    "\n",
    "        Args:\n",
    "            index (dict): The information of points on the graph\n",
    "        \"\"\"\n",
    "        country = self.test_labels[index[\"ind\"][0]][0]\n",
    "        year = self.test_labels[index[\"ind\"][0]][1]\n",
    "        annotation = country + \" (\" + str(year) + \")\"\n",
    "        self.annotate.xy = self.plot.get_offsets()[index[\"ind\"][0]]\n",
    "        self.annotate.set_text(annotation)"
   ]
  },
  {
   "cell_type": "code",
   "execution_count": 9,
   "id": "02ab466c",
   "metadata": {},
   "outputs": [],
   "source": [
    "     def hover(self, mouseover):\n",
    "        \"\"\"Checks the mouseover to see if it is hovering over a point to check\n",
    "           whether or not an annotation should be displayed\n",
    "\n",
    "        Args:\n",
    "            mouseover (matplotlib.backend_bases.MouseEvent): Gets the x- and\n",
    "                                                             y-coordinates of\n",
    "                                                             the mouse location\n",
    "        \"\"\"\n",
    "        visible = self.annotate.get_visible()\n",
    "\n",
    "        if mouseover.inaxes == self.ax:\n",
    "            # identify whether or not the mouse is on the plot\n",
    "            contains, index = self.plot.contains(mouseover)\n",
    "\n",
    "            if contains:\n",
    "                # the mouse is somewhere on the graph and is hovering over a\n",
    "                # point\n",
    "                self.update_annotation(index)\n",
    "                self.annotate.set_visible(True)\n",
    "                self.figure.canvas.draw_idle()\n",
    "            elif visible:\n",
    "                # the mouse is somewhere on the graph and is not hovering over a\n",
    "                # point\n",
    "                self.annotate.set_visible(False)\n",
    "                self.figure.canvas.draw_idle()"
   ]
  }
 ],
 "metadata": {
  "kernelspec": {
   "display_name": "Python 3 (ipykernel)",
   "language": "python",
   "name": "python3"
  },
  "language_info": {
   "codemirror_mode": {
    "name": "ipython",
    "version": 3
   },
   "file_extension": ".py",
   "mimetype": "text/x-python",
   "name": "python",
   "nbconvert_exporter": "python",
   "pygments_lexer": "ipython3",
   "version": "3.10.13"
  }
 },
 "nbformat": 4,
 "nbformat_minor": 5
}
