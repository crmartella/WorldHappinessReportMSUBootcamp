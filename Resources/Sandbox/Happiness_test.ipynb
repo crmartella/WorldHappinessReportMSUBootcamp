{
 "cells": [
  {
   "cell_type": "code",
   "execution_count": 2,
   "id": "7e94a1fa",
   "metadata": {},
   "outputs": [
    {
     "ename": "ModuleNotFoundError",
     "evalue": "No module named 'linear_regression'",
     "output_type": "error",
     "traceback": [
      "\u001b[1;31m---------------------------------------------------------------------------\u001b[0m",
      "\u001b[1;31mModuleNotFoundError\u001b[0m                       Traceback (most recent call last)",
      "Cell \u001b[1;32mIn[2], line 7\u001b[0m\n\u001b[0;32m      4\u001b[0m \u001b[38;5;28;01mimport\u001b[39;00m \u001b[38;5;21;01mpandas\u001b[39;00m \u001b[38;5;28;01mas\u001b[39;00m \u001b[38;5;21;01mpd\u001b[39;00m\n\u001b[0;32m      6\u001b[0m \u001b[38;5;66;03m# personal functions\u001b[39;00m\n\u001b[1;32m----> 7\u001b[0m \u001b[38;5;28;01mfrom\u001b[39;00m \u001b[38;5;21;01mlinear_regression\u001b[39;00m \u001b[38;5;28;01mimport\u001b[39;00m \u001b[38;5;241m*\u001b[39m\n\u001b[0;32m      8\u001b[0m \u001b[38;5;28;01mfrom\u001b[39;00m \u001b[38;5;21;01mknr\u001b[39;00m \u001b[38;5;28;01mimport\u001b[39;00m \u001b[38;5;241m*\u001b[39m\n\u001b[0;32m      9\u001b[0m \u001b[38;5;28;01mimport\u001b[39;00m \u001b[38;5;21;01mprocess_arguments\u001b[39;00m\n",
      "\u001b[1;31mModuleNotFoundError\u001b[0m: No module named 'linear_regression'"
     ]
    }
   ],
   "source": [
    "from sklearn.preprocessing import MinMaxScaler\n",
    "import matplotlib.pyplot as plt\n",
    "import numpy as np\n",
    "import pandas as pd\n",
    "\n",
    "# personal functions\n",
    "from linear_regression import *\n",
    "from knr import *\n",
    "import process_arguments\n",
    "import load_data"
   ]
  },
  {
   "cell_type": "code",
   "execution_count": null,
   "id": "19bf6547",
   "metadata": {},
   "outputs": [],
   "source": [
    "def main():\n",
    "    start, end, seed = Process.parse_arguments()\n",
    "    dataframe = Process.read_csv(start, end)\n",
    "    column_names = [\"Country\", \"Year\", \"Region\", \"Happiness Score\",\n",
    "                    \"Economy (GDP per Capita)\", \"Health (Life Expectancy)\",\n",
    "                    \"Freedom\", \"Trust (Government Corruption)\", \"Generosity\"]\n",
    "    \n",
    "    labels, data = load_data.split_data(dataframe, column_names)\n",
    "    \n",
    "    # use the MinMaxScaler to scale all features between 0 and 1\n",
    "    scaler = MinMaxScaler()\n",
    "    features_minmax = pd.DataFrame(data = data)\n",
    "    features_minmax = scaler.fit_transform(features_minmax)\n",
    "    data_train, data_test, labels_train, labels_test =\\\n",
    "        load_data.split_train_test(features_minmax, labels, seed)\n",
    "    \n",
    "    # LINEAR REGRESSION MODEL\n",
    "    print(\"LINEAR REGRESSION MODEL\")\n",
    "    linear_regression =\\\n",
    "        LinearRegressionModel(data_test, labels_test, data_train, labels_train,\\\n",
    "            start, end)\n",
    "    linear_regression.train()\n",
    "    linear_regression.predict()\n",
    "    linear_regression.graph()\n",
    "    print(\"R^2 = \" + str(linear_regression.r_squared()))\n",
    "    print(\"Weights = \" + str(linear_regression.weights()))\n",
    "    \n",
    "    # KNEIGHBORS REGRESSOR MODEL\n",
    "    print(\"\\nKNEIGHBORS REGRESSOR MODEL\")\n",
    "    knregressor =\\\n",
    "        KNeighborsRegressorModel(data_test, labels_test, data_train, labels_train,\\\n",
    "            start, end)\n",
    "    knregressor.train()\n",
    "    knregressor.predict()\n",
    "    knregressor.graph()\n",
    "    print(\"R^2 = \" + str(knregressor.r_squared()))\n",
    "\n",
    "if __name__ == \"__main__\":\n",
    "    main()"
   ]
  },
  {
   "cell_type": "code",
   "execution_count": null,
   "id": "f2c69bd6",
   "metadata": {},
   "outputs": [],
   "source": []
  }
 ],
 "metadata": {
  "kernelspec": {
   "display_name": "Python 3 (ipykernel)",
   "language": "python",
   "name": "python3"
  },
  "language_info": {
   "codemirror_mode": {
    "name": "ipython",
    "version": 3
   },
   "file_extension": ".py",
   "mimetype": "text/x-python",
   "name": "python",
   "nbconvert_exporter": "python",
   "pygments_lexer": "ipython3",
   "version": "3.10.13"
  }
 },
 "nbformat": 4,
 "nbformat_minor": 5
}
