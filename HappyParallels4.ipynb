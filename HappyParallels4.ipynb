{
 "cells": [
  {
   "cell_type": "code",
   "execution_count": 47,
   "id": "2ab4b83b",
   "metadata": {
    "scrolled": true
   },
   "outputs": [
    {
     "name": "stdout",
     "output_type": "stream",
     "text": [
      "Requirement already satisfied: mlxtend in c:\\users\\sean\\anaconda3\\envs\\dev\\lib\\site-packages (0.23.1)\n",
      "Requirement already satisfied: scipy>=1.2.1 in c:\\users\\sean\\anaconda3\\envs\\dev\\lib\\site-packages (from mlxtend) (1.11.1)\n",
      "Requirement already satisfied: numpy>=1.16.2 in c:\\users\\sean\\anaconda3\\envs\\dev\\lib\\site-packages (from mlxtend) (1.24.3)\n",
      "Requirement already satisfied: pandas>=0.24.2 in c:\\users\\sean\\anaconda3\\envs\\dev\\lib\\site-packages (from mlxtend) (2.0.3)\n",
      "Requirement already satisfied: scikit-learn>=1.0.2 in c:\\users\\sean\\anaconda3\\envs\\dev\\lib\\site-packages (from mlxtend) (1.3.0)\n",
      "Requirement already satisfied: matplotlib>=3.0.0 in c:\\users\\sean\\anaconda3\\envs\\dev\\lib\\site-packages (from mlxtend) (3.7.2)\n",
      "Requirement already satisfied: joblib>=0.13.2 in c:\\users\\sean\\anaconda3\\envs\\dev\\lib\\site-packages (from mlxtend) (1.2.0)\n",
      "Requirement already satisfied: contourpy>=1.0.1 in c:\\users\\sean\\anaconda3\\envs\\dev\\lib\\site-packages (from matplotlib>=3.0.0->mlxtend) (1.0.5)\n",
      "Requirement already satisfied: cycler>=0.10 in c:\\users\\sean\\anaconda3\\envs\\dev\\lib\\site-packages (from matplotlib>=3.0.0->mlxtend) (0.11.0)\n",
      "Requirement already satisfied: fonttools>=4.22.0 in c:\\users\\sean\\anaconda3\\envs\\dev\\lib\\site-packages (from matplotlib>=3.0.0->mlxtend) (4.25.0)\n",
      "Requirement already satisfied: kiwisolver>=1.0.1 in c:\\users\\sean\\anaconda3\\envs\\dev\\lib\\site-packages (from matplotlib>=3.0.0->mlxtend) (1.4.4)\n",
      "Requirement already satisfied: packaging>=20.0 in c:\\users\\sean\\anaconda3\\envs\\dev\\lib\\site-packages (from matplotlib>=3.0.0->mlxtend) (23.1)\n",
      "Requirement already satisfied: pillow>=6.2.0 in c:\\users\\sean\\anaconda3\\envs\\dev\\lib\\site-packages (from matplotlib>=3.0.0->mlxtend) (9.4.0)\n",
      "Requirement already satisfied: pyparsing<3.1,>=2.3.1 in c:\\users\\sean\\anaconda3\\envs\\dev\\lib\\site-packages (from matplotlib>=3.0.0->mlxtend) (3.0.9)\n",
      "Requirement already satisfied: python-dateutil>=2.7 in c:\\users\\sean\\anaconda3\\envs\\dev\\lib\\site-packages (from matplotlib>=3.0.0->mlxtend) (2.8.2)\n",
      "Requirement already satisfied: pytz>=2020.1 in c:\\users\\sean\\anaconda3\\envs\\dev\\lib\\site-packages (from pandas>=0.24.2->mlxtend) (2023.3.post1)\n",
      "Requirement already satisfied: tzdata>=2022.1 in c:\\users\\sean\\anaconda3\\envs\\dev\\lib\\site-packages (from pandas>=0.24.2->mlxtend) (2023.3)\n",
      "Requirement already satisfied: threadpoolctl>=2.0.0 in c:\\users\\sean\\anaconda3\\envs\\dev\\lib\\site-packages (from scikit-learn>=1.0.2->mlxtend) (2.2.0)\n",
      "Requirement already satisfied: six>=1.5 in c:\\users\\sean\\anaconda3\\envs\\dev\\lib\\site-packages (from python-dateutil>=2.7->matplotlib>=3.0.0->mlxtend) (1.16.0)\n",
      "Requirement already satisfied: prophet in c:\\users\\sean\\anaconda3\\envs\\dev\\lib\\site-packages (1.1.5)\n",
      "Requirement already satisfied: cmdstanpy>=1.0.4 in c:\\users\\sean\\anaconda3\\envs\\dev\\lib\\site-packages (from prophet) (1.2.0)\n",
      "Requirement already satisfied: numpy>=1.15.4 in c:\\users\\sean\\anaconda3\\envs\\dev\\lib\\site-packages (from prophet) (1.24.3)\n",
      "Requirement already satisfied: matplotlib>=2.0.0 in c:\\users\\sean\\anaconda3\\envs\\dev\\lib\\site-packages (from prophet) (3.7.2)\n",
      "Requirement already satisfied: pandas>=1.0.4 in c:\\users\\sean\\anaconda3\\envs\\dev\\lib\\site-packages (from prophet) (2.0.3)\n",
      "Requirement already satisfied: holidays>=0.25 in c:\\users\\sean\\anaconda3\\envs\\dev\\lib\\site-packages (from prophet) (0.39)\n",
      "Requirement already satisfied: tqdm>=4.36.1 in c:\\users\\sean\\anaconda3\\envs\\dev\\lib\\site-packages (from prophet) (4.65.0)\n",
      "Requirement already satisfied: importlib-resources in c:\\users\\sean\\anaconda3\\envs\\dev\\lib\\site-packages (from prophet) (6.1.1)\n",
      "Requirement already satisfied: stanio~=0.3.0 in c:\\users\\sean\\anaconda3\\envs\\dev\\lib\\site-packages (from cmdstanpy>=1.0.4->prophet) (0.3.0)\n",
      "Requirement already satisfied: python-dateutil in c:\\users\\sean\\anaconda3\\envs\\dev\\lib\\site-packages (from holidays>=0.25->prophet) (2.8.2)\n",
      "Requirement already satisfied: contourpy>=1.0.1 in c:\\users\\sean\\anaconda3\\envs\\dev\\lib\\site-packages (from matplotlib>=2.0.0->prophet) (1.0.5)\n",
      "Requirement already satisfied: cycler>=0.10 in c:\\users\\sean\\anaconda3\\envs\\dev\\lib\\site-packages (from matplotlib>=2.0.0->prophet) (0.11.0)\n",
      "Requirement already satisfied: fonttools>=4.22.0 in c:\\users\\sean\\anaconda3\\envs\\dev\\lib\\site-packages (from matplotlib>=2.0.0->prophet) (4.25.0)\n",
      "Requirement already satisfied: kiwisolver>=1.0.1 in c:\\users\\sean\\anaconda3\\envs\\dev\\lib\\site-packages (from matplotlib>=2.0.0->prophet) (1.4.4)\n",
      "Requirement already satisfied: packaging>=20.0 in c:\\users\\sean\\anaconda3\\envs\\dev\\lib\\site-packages (from matplotlib>=2.0.0->prophet) (23.1)\n",
      "Requirement already satisfied: pillow>=6.2.0 in c:\\users\\sean\\anaconda3\\envs\\dev\\lib\\site-packages (from matplotlib>=2.0.0->prophet) (9.4.0)\n",
      "Requirement already satisfied: pyparsing<3.1,>=2.3.1 in c:\\users\\sean\\anaconda3\\envs\\dev\\lib\\site-packages (from matplotlib>=2.0.0->prophet) (3.0.9)\n",
      "Requirement already satisfied: pytz>=2020.1 in c:\\users\\sean\\anaconda3\\envs\\dev\\lib\\site-packages (from pandas>=1.0.4->prophet) (2023.3.post1)\n",
      "Requirement already satisfied: tzdata>=2022.1 in c:\\users\\sean\\anaconda3\\envs\\dev\\lib\\site-packages (from pandas>=1.0.4->prophet) (2023.3)\n",
      "Requirement already satisfied: colorama in c:\\users\\sean\\anaconda3\\envs\\dev\\lib\\site-packages (from tqdm>=4.36.1->prophet) (0.4.6)\n",
      "Requirement already satisfied: six>=1.5 in c:\\users\\sean\\anaconda3\\envs\\dev\\lib\\site-packages (from python-dateutil->holidays>=0.25->prophet) (1.16.0)\n"
     ]
    }
   ],
   "source": [
    "!pip install mlxtend\n",
    "!pip install prophet\n",
    "import pandas as pd\n",
    "import numpy as np\n",
    "from sklearn.model_selection import train_test_split\n",
    "from sklearn.linear_model import LinearRegression\n",
    "from sklearn.preprocessing import MinMaxScaler\n",
    "from sklearn.metrics import mean_squared_error, r2_score\n",
    "import matplotlib.pyplot as plt\n",
    "import seaborn as sns\n",
    "from sklearn.impute import SimpleImputer"
   ]
  },
  {
   "cell_type": "code",
   "execution_count": 48,
   "id": "e3999d2e",
   "metadata": {
    "scrolled": false
   },
   "outputs": [
    {
     "data": {
      "text/html": [
       "<div>\n",
       "<style scoped>\n",
       "    .dataframe tbody tr th:only-of-type {\n",
       "        vertical-align: middle;\n",
       "    }\n",
       "\n",
       "    .dataframe tbody tr th {\n",
       "        vertical-align: top;\n",
       "    }\n",
       "\n",
       "    .dataframe thead th {\n",
       "        text-align: right;\n",
       "    }\n",
       "</style>\n",
       "<table border=\"1\" class=\"dataframe\">\n",
       "  <thead>\n",
       "    <tr style=\"text-align: right;\">\n",
       "      <th></th>\n",
       "      <th>Country Name</th>\n",
       "      <th>Regional Indicator</th>\n",
       "      <th>Year</th>\n",
       "      <th>Life Ladder</th>\n",
       "      <th>Log GDP Per Capita</th>\n",
       "      <th>Social Support</th>\n",
       "      <th>Healthy Life Expectancy At Birth</th>\n",
       "      <th>Freedom To Make Life Choices</th>\n",
       "      <th>Generosity</th>\n",
       "      <th>Perceptions Of Corruption</th>\n",
       "      <th>Positive Affect</th>\n",
       "      <th>Negative Affect</th>\n",
       "      <th>Confidence In National Government</th>\n",
       "    </tr>\n",
       "  </thead>\n",
       "  <tbody>\n",
       "    <tr>\n",
       "      <th>0</th>\n",
       "      <td>Afghanistan</td>\n",
       "      <td>South Asia</td>\n",
       "      <td>2008</td>\n",
       "      <td>3.723590</td>\n",
       "      <td>7.350416</td>\n",
       "      <td>0.450662</td>\n",
       "      <td>50.500000</td>\n",
       "      <td>0.718114</td>\n",
       "      <td>0.167652</td>\n",
       "      <td>0.881686</td>\n",
       "      <td>0.414297</td>\n",
       "      <td>0.258195</td>\n",
       "      <td>0.612072</td>\n",
       "    </tr>\n",
       "    <tr>\n",
       "      <th>1</th>\n",
       "      <td>Afghanistan</td>\n",
       "      <td>South Asia</td>\n",
       "      <td>2009</td>\n",
       "      <td>4.401778</td>\n",
       "      <td>7.508646</td>\n",
       "      <td>0.552308</td>\n",
       "      <td>50.799999</td>\n",
       "      <td>0.678896</td>\n",
       "      <td>0.190809</td>\n",
       "      <td>0.850035</td>\n",
       "      <td>0.481421</td>\n",
       "      <td>0.237092</td>\n",
       "      <td>0.611545</td>\n",
       "    </tr>\n",
       "    <tr>\n",
       "      <th>2</th>\n",
       "      <td>Afghanistan</td>\n",
       "      <td>South Asia</td>\n",
       "      <td>2010</td>\n",
       "      <td>4.758381</td>\n",
       "      <td>7.613900</td>\n",
       "      <td>0.539075</td>\n",
       "      <td>51.099998</td>\n",
       "      <td>0.600127</td>\n",
       "      <td>0.121316</td>\n",
       "      <td>0.706766</td>\n",
       "      <td>0.516907</td>\n",
       "      <td>0.275324</td>\n",
       "      <td>0.299357</td>\n",
       "    </tr>\n",
       "    <tr>\n",
       "      <th>3</th>\n",
       "      <td>Afghanistan</td>\n",
       "      <td>South Asia</td>\n",
       "      <td>2011</td>\n",
       "      <td>3.831719</td>\n",
       "      <td>7.581259</td>\n",
       "      <td>0.521104</td>\n",
       "      <td>51.400002</td>\n",
       "      <td>0.495901</td>\n",
       "      <td>0.163571</td>\n",
       "      <td>0.731109</td>\n",
       "      <td>0.479835</td>\n",
       "      <td>0.267175</td>\n",
       "      <td>0.307386</td>\n",
       "    </tr>\n",
       "    <tr>\n",
       "      <th>4</th>\n",
       "      <td>Afghanistan</td>\n",
       "      <td>South Asia</td>\n",
       "      <td>2012</td>\n",
       "      <td>3.782938</td>\n",
       "      <td>7.660506</td>\n",
       "      <td>0.520637</td>\n",
       "      <td>51.700001</td>\n",
       "      <td>0.530935</td>\n",
       "      <td>0.237588</td>\n",
       "      <td>0.775620</td>\n",
       "      <td>0.613513</td>\n",
       "      <td>0.267919</td>\n",
       "      <td>0.435440</td>\n",
       "    </tr>\n",
       "  </tbody>\n",
       "</table>\n",
       "</div>"
      ],
      "text/plain": [
       "  Country Name Regional Indicator  Year  Life Ladder  Log GDP Per Capita  \\\n",
       "0  Afghanistan         South Asia  2008     3.723590            7.350416   \n",
       "1  Afghanistan         South Asia  2009     4.401778            7.508646   \n",
       "2  Afghanistan         South Asia  2010     4.758381            7.613900   \n",
       "3  Afghanistan         South Asia  2011     3.831719            7.581259   \n",
       "4  Afghanistan         South Asia  2012     3.782938            7.660506   \n",
       "\n",
       "   Social Support  Healthy Life Expectancy At Birth  \\\n",
       "0        0.450662                         50.500000   \n",
       "1        0.552308                         50.799999   \n",
       "2        0.539075                         51.099998   \n",
       "3        0.521104                         51.400002   \n",
       "4        0.520637                         51.700001   \n",
       "\n",
       "   Freedom To Make Life Choices  Generosity  Perceptions Of Corruption  \\\n",
       "0                      0.718114    0.167652                   0.881686   \n",
       "1                      0.678896    0.190809                   0.850035   \n",
       "2                      0.600127    0.121316                   0.706766   \n",
       "3                      0.495901    0.163571                   0.731109   \n",
       "4                      0.530935    0.237588                   0.775620   \n",
       "\n",
       "   Positive Affect  Negative Affect  Confidence In National Government  \n",
       "0         0.414297         0.258195                           0.612072  \n",
       "1         0.481421         0.237092                           0.611545  \n",
       "2         0.516907         0.275324                           0.299357  \n",
       "3         0.479835         0.267175                           0.307386  \n",
       "4         0.613513         0.267919                           0.435440  "
      ]
     },
     "execution_count": 48,
     "metadata": {},
     "output_type": "execute_result"
    }
   ],
   "source": [
    "happiness = pd.read_csv(\"Resources/WHR 2005 to 2023.csv\")\n",
    "# happiness = pd.read_csv(\"Resources/WHR 2005 to 2023 No Crash.csv\")\n",
    "# happiness = pd.read_csv(\"Resources/WHR 2005 to 2023 No Pandemic.csv\")\n",
    "# happiness = pd.read_csv(\"Resources/WHR 2005 to 2023 Utopia.csv\")\n",
    "happiness_total = pd.read_csv(\"Resources/WHR 2005 to 2023.csv\")\n",
    "happiness_ref = pd.read_csv(\"Resources/2019_global_happiness_reference.csv\")\n",
    "happiness.head()"
   ]
  },
  {
   "cell_type": "code",
   "execution_count": 49,
   "id": "51a00bd3",
   "metadata": {},
   "outputs": [],
   "source": [
    "# Define the years to be dropped and the years for which averages will be calculated\n",
    "years_to_drop = [2008, 2009, 2020, 2021]\n",
    "averaging_years = [(2008, [2006, 2007]), (2009, [2010, 2011]), (2020, [2018, 2019]), (2021, [2022, 2023])]\n",
    "\n",
    "# Drop the data for the specified years\n",
    "happiness_filtered = happiness[~happiness['Year'].isin(years_to_drop)]\n",
    "\n",
    "# Calculate averages and replace missing years with the averages\n",
    "for year_to_replace, averaging_pair in averaging_years:\n",
    "    average_data = happiness_filtered[happiness_filtered['Year'].isin(averaging_pair)]['Life Ladder'].mean()\n",
    "    happiness_filtered.loc[happiness_filtered['Year'] == year_to_replace, 'Life Ladder'] = average_data"
   ]
  },
  {
   "cell_type": "code",
   "execution_count": 50,
   "id": "c5c12387",
   "metadata": {
    "scrolled": true
   },
   "outputs": [
    {
     "name": "stdout",
     "output_type": "stream",
     "text": [
      "<class 'pandas.core.frame.DataFrame'>\n",
      "Index: 1874 entries, 2 to 2335\n",
      "Data columns (total 13 columns):\n",
      " #   Column                             Non-Null Count  Dtype  \n",
      "---  ------                             --------------  -----  \n",
      " 0   Country Name                       1874 non-null   object \n",
      " 1   Regional Indicator                 1874 non-null   object \n",
      " 2   Year                               1874 non-null   int64  \n",
      " 3   Life Ladder                        1874 non-null   float64\n",
      " 4   Log GDP Per Capita                 1859 non-null   float64\n",
      " 5   Social Support                     1862 non-null   float64\n",
      " 6   Healthy Life Expectancy At Birth   1830 non-null   float64\n",
      " 7   Freedom To Make Life Choices       1848 non-null   float64\n",
      " 8   Generosity                         1807 non-null   float64\n",
      " 9   Perceptions Of Corruption          1773 non-null   float64\n",
      " 10  Positive Affect                    1716 non-null   float64\n",
      " 11  Negative Affect                    1723 non-null   float64\n",
      " 12  Confidence In National Government  1434 non-null   float64\n",
      "dtypes: float64(10), int64(1), object(2)\n",
      "memory usage: 205.0+ KB\n"
     ]
    },
    {
     "data": {
      "text/plain": [
       "<bound method NDFrame.head of      Country Name  Regional Indicator  Year  Life Ladder  Log GDP Per Capita  \\\n",
       "2     Afghanistan          South Asia  2010     4.758381            7.613900   \n",
       "3     Afghanistan          South Asia  2011     3.831719            7.581259   \n",
       "4     Afghanistan          South Asia  2012     3.782938            7.660506   \n",
       "5     Afghanistan          South Asia  2013     3.572100            7.680333   \n",
       "6     Afghanistan          South Asia  2014     3.130896            7.670638   \n",
       "...           ...                 ...   ...          ...                 ...   \n",
       "2329     Zimbabwe  Sub-Saharan Africa  2017     3.638300            7.754387   \n",
       "2330     Zimbabwe  Sub-Saharan Africa  2018     3.616480            7.783066   \n",
       "2331     Zimbabwe  Sub-Saharan Africa  2019     2.693523            7.697755   \n",
       "2334     Zimbabwe  Sub-Saharan Africa  2022     3.296220            7.670123   \n",
       "2335     Zimbabwe  Sub-Saharan Africa  2023     3.204000            7.641000   \n",
       "\n",
       "      Social Support  Healthy Life Expectancy At Birth  \\\n",
       "2           0.539075                         51.099998   \n",
       "3           0.521104                         51.400002   \n",
       "4           0.520637                         51.700001   \n",
       "5           0.483552                         52.000000   \n",
       "6           0.525568                         52.299999   \n",
       "...              ...                               ...   \n",
       "2329        0.754147                         52.150002   \n",
       "2330        0.775388                         52.625000   \n",
       "2331        0.759162                         53.099998   \n",
       "2334        0.666172                         54.525002   \n",
       "2335        0.690000                         54.050000   \n",
       "\n",
       "      Freedom To Make Life Choices  Generosity  Perceptions Of Corruption  \\\n",
       "2                         0.600127    0.121316                   0.706766   \n",
       "3                         0.495901    0.163571                   0.731109   \n",
       "4                         0.530935    0.237588                   0.775620   \n",
       "5                         0.577955    0.062666                   0.823204   \n",
       "6                         0.508514    0.105755                   0.871242   \n",
       "...                            ...         ...                        ...   \n",
       "2329                      0.752826   -0.080725                   0.751208   \n",
       "2330                      0.762675   -0.051219                   0.844209   \n",
       "2331                      0.631908   -0.047464                   0.830652   \n",
       "2334                      0.651987   -0.069513                   0.752632   \n",
       "2335                      0.654000   -0.046000                   0.766000   \n",
       "\n",
       "      Positive Affect  Negative Affect  Confidence In National Government  \n",
       "2            0.516907         0.275324                           0.299357  \n",
       "3            0.479835         0.267175                           0.307386  \n",
       "4            0.613513         0.267919                           0.435440  \n",
       "5            0.547417         0.273328                           0.482847  \n",
       "6            0.491641         0.374861                           0.409048  \n",
       "...               ...              ...                                ...  \n",
       "2329         0.733641         0.224051                           0.682647  \n",
       "2330         0.657524         0.211726                           0.550508  \n",
       "2331         0.658434         0.235354                           0.456455  \n",
       "2334         0.640609         0.191350                                NaN  \n",
       "2335              NaN              NaN                                NaN  \n",
       "\n",
       "[1874 rows x 13 columns]>"
      ]
     },
     "execution_count": 50,
     "metadata": {},
     "output_type": "execute_result"
    }
   ],
   "source": [
    "# happiness_total.info()\n",
    "happiness_filtered.info()\n",
    "happiness_filtered.head"
   ]
  },
  {
   "cell_type": "code",
   "execution_count": 51,
   "id": "0f4bdc15",
   "metadata": {
    "scrolled": true
   },
   "outputs": [],
   "source": [
    "# print(\"Mean Squared Error:\", mse)\n",
    "# print(\"R^2 Score:\", r2)"
   ]
  },
  {
   "cell_type": "code",
   "execution_count": 52,
   "id": "d713f786",
   "metadata": {},
   "outputs": [
    {
     "data": {
      "text/plain": [
       "(1874, 13)"
      ]
     },
     "execution_count": 52,
     "metadata": {},
     "output_type": "execute_result"
    }
   ],
   "source": [
    "happiness_filtered.shape"
   ]
  },
  {
   "cell_type": "code",
   "execution_count": 53,
   "id": "58bdf243",
   "metadata": {},
   "outputs": [
    {
     "data": {
      "text/plain": [
       "Country Name                          object\n",
       "Regional Indicator                    object\n",
       "Year                                   int64\n",
       "Life Ladder                          float64\n",
       "Log GDP Per Capita                   float64\n",
       "Social Support                       float64\n",
       "Healthy Life Expectancy At Birth     float64\n",
       "Freedom To Make Life Choices         float64\n",
       "Generosity                           float64\n",
       "Perceptions Of Corruption            float64\n",
       "Positive Affect                      float64\n",
       "Negative Affect                      float64\n",
       "Confidence In National Government    float64\n",
       "dtype: object"
      ]
     },
     "execution_count": 53,
     "metadata": {},
     "output_type": "execute_result"
    }
   ],
   "source": [
    "happiness_filtered.dtypes"
   ]
  },
  {
   "cell_type": "code",
   "execution_count": 54,
   "id": "e357d7d8",
   "metadata": {},
   "outputs": [
    {
     "data": {
      "text/plain": [
       "Country Name                           0\n",
       "Regional Indicator                     0\n",
       "Year                                   0\n",
       "Life Ladder                            0\n",
       "Log GDP Per Capita                    15\n",
       "Social Support                        12\n",
       "Healthy Life Expectancy At Birth      44\n",
       "Freedom To Make Life Choices          26\n",
       "Generosity                            67\n",
       "Perceptions Of Corruption            101\n",
       "Positive Affect                      158\n",
       "Negative Affect                      151\n",
       "Confidence In National Government    440\n",
       "dtype: int64"
      ]
     },
     "execution_count": 54,
     "metadata": {},
     "output_type": "execute_result"
    }
   ],
   "source": [
    "happiness_filtered.isnull().sum()"
   ]
  },
  {
   "cell_type": "code",
   "execution_count": 55,
   "id": "0d90672d",
   "metadata": {
    "scrolled": true
   },
   "outputs": [],
   "source": [
    "# sns.pairplot(happiness_filtered)"
   ]
  },
  {
   "cell_type": "code",
   "execution_count": 56,
   "id": "0eec13bb",
   "metadata": {
    "scrolled": false
   },
   "outputs": [
    {
     "name": "stdout",
     "output_type": "stream",
     "text": [
      "<class 'pandas.core.frame.DataFrame'>\n",
      "RangeIndex: 11 entries, 0 to 10\n",
      "Data columns (total 2 columns):\n",
      " #   Column       Non-Null Count  Dtype \n",
      "---  ------       --------------  ----- \n",
      " 0   Variable     11 non-null     object\n",
      " 1   Description  11 non-null     object\n",
      "dtypes: object(2)\n",
      "memory usage: 304.0+ bytes\n"
     ]
    }
   ],
   "source": [
    "happiness_ref.info()"
   ]
  },
  {
   "cell_type": "code",
   "execution_count": 57,
   "id": "dc0a63a1",
   "metadata": {},
   "outputs": [],
   "source": [
    "# happiness_ref.head(20)"
   ]
  },
  {
   "cell_type": "code",
   "execution_count": 58,
   "id": "3f11b022",
   "metadata": {},
   "outputs": [],
   "source": [
    "cols_to_plot = ['']"
   ]
  },
  {
   "cell_type": "code",
   "execution_count": 59,
   "id": "a3a56129",
   "metadata": {},
   "outputs": [
    {
     "ename": "NameError",
     "evalue": "name 'mse' is not defined",
     "output_type": "error",
     "traceback": [
      "\u001b[1;31m---------------------------------------------------------------------------\u001b[0m",
      "\u001b[1;31mNameError\u001b[0m                                 Traceback (most recent call last)",
      "Cell \u001b[1;32mIn[59], line 1\u001b[0m\n\u001b[1;32m----> 1\u001b[0m \u001b[38;5;28mprint\u001b[39m(\u001b[38;5;124m\"\u001b[39m\u001b[38;5;124mMean Squared Error:\u001b[39m\u001b[38;5;124m\"\u001b[39m, \u001b[43mmse\u001b[49m)\n\u001b[0;32m      2\u001b[0m \u001b[38;5;28mprint\u001b[39m(\u001b[38;5;124m\"\u001b[39m\u001b[38;5;124mR^2 Score:\u001b[39m\u001b[38;5;124m\"\u001b[39m, r2)\n",
      "\u001b[1;31mNameError\u001b[0m: name 'mse' is not defined"
     ]
    }
   ],
   "source": [
    "print(\"Mean Squared Error:\", mse)\n",
    "print(\"R^2 Score:\", r2)"
   ]
  },
  {
   "cell_type": "code",
   "execution_count": null,
   "id": "8f63245e",
   "metadata": {
    "scrolled": true
   },
   "outputs": [],
   "source": [
    "happiness_total.head(50)"
   ]
  },
  {
   "cell_type": "code",
   "execution_count": null,
   "id": "21aa4249",
   "metadata": {},
   "outputs": [],
   "source": [
    "# imputer = SimpleImputer(strategy='mean')\n",
    "# imputer.fit(happiness.select_dtypes(include=np.number))\n",
    "\n",
    "# imputer = SimpleImputer(strategy='mean')\n",
    "# X_imputed = imputer.fit_transform(X)"
   ]
  },
  {
   "cell_type": "code",
   "execution_count": null,
   "id": "3a5db99c",
   "metadata": {},
   "outputs": [],
   "source": [
    "# happiness_imputed = pd.DataFrame(imputer.transform(happiness.select_dtypes(include=np.number)), columns=happiness.select_dtypes(include=np.number).columns)"
   ]
  },
  {
   "cell_type": "code",
   "execution_count": null,
   "id": "253f10cd",
   "metadata": {
    "scrolled": true
   },
   "outputs": [],
   "source": [
    "# categorical_cols = happiness.select_dtypes(exclude=np.number).columns\n",
    "# happiness_imputed[categorical_cols] = happiness[categorical_cols]"
   ]
  },
  {
   "cell_type": "code",
   "execution_count": null,
   "id": "51d37231",
   "metadata": {},
   "outputs": [],
   "source": [
    "# happiness_imputed.isnull().sum()"
   ]
  },
  {
   "cell_type": "code",
   "execution_count": null,
   "id": "f8e8002c",
   "metadata": {},
   "outputs": [],
   "source": [
    "# happiness_imputed.to_csv(\"Resources/preprocessed_happiness_data.csv\", index=False)"
   ]
  },
  {
   "cell_type": "code",
   "execution_count": null,
   "id": "b57a5d10",
   "metadata": {},
   "outputs": [],
   "source": [
    "# X = happiness_imputed.drop(columns=['Life Ladder'])\n",
    "# y = happiness_imputed['Life Ladder']"
   ]
  },
  {
   "cell_type": "code",
   "execution_count": null,
   "id": "ac235195",
   "metadata": {},
   "outputs": [],
   "source": [
    "# X_train, X_test, y_train, y_test = train_test_split(X, y, test_size=0.2, random_state=42)"
   ]
  },
  {
   "cell_type": "code",
   "execution_count": null,
   "id": "b7eba3b9",
   "metadata": {
    "scrolled": false
   },
   "outputs": [],
   "source": [
    "# print(\"X_train data types:\")\n",
    "# print(X_train.dtypes)\n",
    "# print(\"\\n\")\n",
    "# print(\"y_train data types:\")\n",
    "# print(y_train.dtypes)"
   ]
  },
  {
   "cell_type": "code",
   "execution_count": null,
   "id": "bbd21b6e",
   "metadata": {},
   "outputs": [],
   "source": [
    "# # Perform one-hot encoding on categorical variables\n",
    "# happiness_encoded = pd.get_dummies(happiness_imputed, columns=['Country Name', 'Regional Indicator'])"
   ]
  },
  {
   "cell_type": "code",
   "execution_count": null,
   "id": "fcb48e9f",
   "metadata": {},
   "outputs": [],
   "source": [
    "# from sklearn.linear_model import LinearRegression\n",
    "\n",
    "# # Define the model\n",
    "# model = LinearRegression()"
   ]
  },
  {
   "cell_type": "code",
   "execution_count": null,
   "id": "68823c7c",
   "metadata": {},
   "outputs": [],
   "source": [
    "# # Encode categorical variables using one-hot encoding\n",
    "# X_encoded = pd.get_dummies(X)"
   ]
  },
  {
   "cell_type": "code",
   "execution_count": null,
   "id": "175b39d5",
   "metadata": {},
   "outputs": [],
   "source": [
    "# # Split the encoded data into training and testing sets\n",
    "# X_train_encoded, X_test_encoded, y_train, y_test = train_test_split(X_encoded, y, test_size=0.2, random_state=42)"
   ]
  },
  {
   "cell_type": "code",
   "execution_count": null,
   "id": "8bae73a6",
   "metadata": {},
   "outputs": [],
   "source": [
    "# # Train the model\n",
    "# model.fit(X_train_encoded, y_train)"
   ]
  },
  {
   "cell_type": "code",
   "execution_count": null,
   "id": "56ad1bf0",
   "metadata": {},
   "outputs": [],
   "source": [
    "# # Evaluate the model\n",
    "# y_pred = model.predict(X_test_encoded)\n",
    "# mse = mean_squared_error(y_test, y_pred)\n",
    "# r2 = r2_score(y_test, y_pred)\n",
    "\n",
    "# print(\"Mean Squared Error:\", mse)\n",
    "# print(\"R^2 Score:\", r2)"
   ]
  },
  {
   "cell_type": "code",
   "execution_count": null,
   "id": "b5d8e284",
   "metadata": {},
   "outputs": [],
   "source": [
    "# # Train the model\n",
    "# model.fit(X_train_encoded, y_train)"
   ]
  },
  {
   "cell_type": "code",
   "execution_count": null,
   "id": "1ea07dac",
   "metadata": {},
   "outputs": [],
   "source": [
    "# from sklearn.model_selection import GridSearchCV\n",
    "# from sklearn.linear_model import LinearRegression\n",
    "\n",
    "# # Define the grid of hyperparameters\n",
    "# param_grid = {\n",
    "#     'fit_intercept': [True, False]\n",
    "# }\n",
    "\n",
    "# # Initialize LinearRegression model\n",
    "# model = LinearRegression()\n",
    "\n",
    "# # Initialize GridSearchCV\n",
    "# grid_search = GridSearchCV(estimator=model, param_grid=param_grid, cv=5)\n",
    "\n",
    "# # Fit the GridSearchCV object to the data\n",
    "# grid_search.fit(X_train_encoded, y_train)\n",
    "\n",
    "# # Get the best model\n",
    "# best_model = grid_search.best_estimator_\n",
    "\n",
    "# # Print the best hyperparameters\n",
    "# print(\"Best Hyperparameters:\", grid_search.best_params_)\n",
    "\n",
    "# # Evaluate the best model\n",
    "# y_pred_best = best_model.predict(X_test_encoded)\n",
    "# mse_best = mean_squared_error(y_test, y_pred_best)\n",
    "# r2_best = r2_score(y_test, y_pred_best)\n",
    "\n",
    "# print(\"Mean Squared Error (Best Model):\", mse_best)\n",
    "# print(\"R^2 Score (Best Model):\", r2_best)"
   ]
  },
  {
   "cell_type": "code",
   "execution_count": null,
   "id": "2e82e3ac",
   "metadata": {},
   "outputs": [],
   "source": [
    "from prophet import Prophet\n",
    "\n",
    "# Create a Prophet model\n",
    "prophet_model = Prophet()"
   ]
  },
  {
   "cell_type": "code",
   "execution_count": null,
   "id": "75366090",
   "metadata": {},
   "outputs": [],
   "source": [
    "model = Prophet()"
   ]
  },
  {
   "cell_type": "code",
   "execution_count": null,
   "id": "a8343c44",
   "metadata": {
    "scrolled": true
   },
   "outputs": [],
   "source": [
    "print(happiness_filtered.head())\n",
    "print(happiness_filtered.dtypes)"
   ]
  },
  {
   "cell_type": "code",
   "execution_count": null,
   "id": "198cc2b5",
   "metadata": {},
   "outputs": [],
   "source": []
  },
  {
   "cell_type": "code",
   "execution_count": null,
   "id": "b28866ac",
   "metadata": {
    "scrolled": false
   },
   "outputs": [],
   "source": [
    "# Convert 'Year' column to datetime format and rename it to 'ds'\n",
    "happiness_filtered['ds'] = pd.to_datetime(happiness_filtered['Year'], format='%Y')\n",
    "\n",
    "# Select a column containing the target variable and rename it to 'y'\n",
    "happiness_filtered.rename(columns={'Life Ladder': 'y'}, inplace=True)\n",
    "\n",
    "# Check the first few rows and data types again to verify the changes\n",
    "print(happiness_filtered.head())\n",
    "print(happiness_filtered.dtypes)"
   ]
  },
  {
   "cell_type": "code",
   "execution_count": null,
   "id": "7ddc73c6",
   "metadata": {},
   "outputs": [],
   "source": [
    "# # Rename the datetime column to 'ds'\n",
    "# df_test.rename(columns={'Year': 'ds'}, inplace=True)\n",
    "\n",
    "# # Evaluate the model on the test data\n",
    "# y_pred_test = model.predict(X_test_encoded)\n",
    "# mse_test = mean_squared_error(y_test, y_pred_test)\n",
    "# r2_test = r2_score(y_test, y_pred_test)\n",
    "# print(\"Test Mean Squared Error:\", mse_test)\n",
    "# print(\"Test R^2 Score:\", r2_test)"
   ]
  },
  {
   "cell_type": "code",
   "execution_count": null,
   "id": "c2be6864",
   "metadata": {},
   "outputs": [],
   "source": [
    "# # Rename the datetime column to 'ds'\n",
    "# df_test.rename(columns={'date': 'ds'}, inplace=True)\n",
    "\n",
    "# # Evaluate the model on the training data\n",
    "# y_pred_train = model.predict(X_train_encoded)\n",
    "# mse_train = mean_squared_error(y_train, y_pred_train)\n",
    "# r2_train = r2_score(y_train, y_pred_train)\n",
    "# print(\"Training Mean Squared Error:\", mse_train)\n",
    "# print(\"Training R^2 Score:\", r2_train)\n",
    "\n",
    "# # Evaluate the model on the training data\n",
    "# y_pred_train = model.predict(X_train_encoded)\n",
    "# mse_train = mean_squared_error(y_train, y_pred_train)\n",
    "# r2_train = r2_score(y_train, y_pred_train)\n",
    "# print(\"Training Mean Squared Error:\", mse_train)\n",
    "# print(\"Training R^2 Score:\", r2_train)"
   ]
  },
  {
   "cell_type": "code",
   "execution_count": null,
   "id": "da814c26",
   "metadata": {
    "scrolled": true
   },
   "outputs": [],
   "source": [
    "# Fit the Prophet model to the data\n",
    "model.fit(happiness_filtered)"
   ]
  },
  {
   "cell_type": "code",
   "execution_count": null,
   "id": "efc5d921",
   "metadata": {},
   "outputs": [],
   "source": [
    "# Create a DataFrame for the next X years\n",
    "future_dates = model.make_future_dataframe(periods=200, freq='Y')"
   ]
  },
  {
   "cell_type": "code",
   "execution_count": null,
   "id": "eec1f8ee",
   "metadata": {},
   "outputs": [],
   "source": [
    "# Make predictions for the future dates\n",
    "forecast = model.predict(future_dates)"
   ]
  },
  {
   "cell_type": "code",
   "execution_count": null,
   "id": "7289f26c",
   "metadata": {
    "scrolled": false
   },
   "outputs": [],
   "source": [
    "# Plot the forecast\n",
    "fig = model.plot(forecast)"
   ]
  },
  {
   "cell_type": "code",
   "execution_count": null,
   "id": "5b3cceb6",
   "metadata": {},
   "outputs": [],
   "source": [
    "# import matplotlib.pyplot as plt\n",
    "# from mlxtend.plotting import plot_decision_regions\n",
    "# from sklearn.datasets import make_classification\n",
    "# from sklearn.ensemble import RandomForestClassifier\n",
    "# from sklearn.neighbors import KNeighborsClassifier\n",
    "\n",
    "# # Generate synthetic dataset\n",
    "# X, y = make_classification(n_features=2, n_redundant=0, n_informative=2,\n",
    "#                            random_state=1, n_clusters_per_class=1)\n",
    "\n",
    "# # Define classifiers\n",
    "# rf_clf = RandomForestClassifier(n_estimators=100, random_state=1)\n",
    "# knn_clf = KNeighborsClassifier(n_neighbors=3)\n",
    "\n",
    "# # Fit classifiers\n",
    "# rf_clf.fit(X, y)\n",
    "# knn_clf.fit(X, y)\n",
    "\n",
    "# # Plot decision boundaries\n",
    "# plt.figure(figsize=(12, 6))\n",
    "\n",
    "# plt.subplot(1, 2, 1)\n",
    "# plot_decision_regions(X, y, clf=rf_clf, legend=2)\n",
    "# plt.title('Decision Boundaries - Random Forest')\n",
    "\n",
    "# plt.subplot(1, 2, 2)\n",
    "# plot_decision_regions(X, y, clf=knn_clf, legend=2)\n",
    "# plt.title('Decision Boundaries - k-Nearest Neighbors')\n",
    "\n",
    "# plt.show()"
   ]
  },
  {
   "cell_type": "code",
   "execution_count": null,
   "id": "1939f229",
   "metadata": {},
   "outputs": [],
   "source": [
    "# from sklearn.svm import SVC\n",
    "# from sklearn.linear_model import LogisticRegression\n",
    "\n",
    "# # Define classifiers\n",
    "# svm_clf = SVC(kernel='linear', C=1.0, random_state=1)\n",
    "# lr_clf = LogisticRegression(random_state=1)\n",
    "\n",
    "# # Fit classifiers\n",
    "# svm_clf.fit(X, y)\n",
    "# lr_clf.fit(X, y)\n",
    "\n",
    "# # Plot decision boundaries\n",
    "# plt.figure(figsize=(12, 6))\n",
    "\n",
    "# plt.subplot(1, 2, 1)\n",
    "# plot_decision_regions(X, y, clf=svm_clf, legend=2)\n",
    "# plt.title('Decision Boundaries - Support Vector Machine')\n",
    "\n",
    "# plt.subplot(1, 2, 2)\n",
    "# plot_decision_regions(X, y, clf=lr_clf, legend=2)\n",
    "# plt.title('Decision Boundaries - Logistic Regression')\n",
    "\n",
    "# plt.show()"
   ]
  },
  {
   "cell_type": "code",
   "execution_count": null,
   "id": "a0a64817",
   "metadata": {},
   "outputs": [],
   "source": [
    "# # Evaluate the model on the training data\n",
    "# y_pred_train = model.predict(X_train_encoded)\n",
    "# mse_train = mean_squared_error(y_train, y_pred_train)\n",
    "# r2_train = r2_score(y_train, y_pred_train)\n",
    "# print(\"Training Mean Squared Error:\", mse_train)\n",
    "# print(\"Training R^2 Score:\", r2_train)"
   ]
  },
  {
   "cell_type": "code",
   "execution_count": null,
   "id": "fbd24287",
   "metadata": {},
   "outputs": [],
   "source": [
    "# print(\"Mean Squared Error (Best Model):\", mse_best)\n",
    "# print(\"R^2 Score (Best Model):\", r2_best)"
   ]
  },
  {
   "cell_type": "code",
   "execution_count": null,
   "id": "301f3f6c",
   "metadata": {},
   "outputs": [],
   "source": [
    "# # Evaluate the model\n",
    "# y_pred = model.predict(X_test_encoded)\n",
    "# mse = mean_squared_error(y_test, y_pred)\n",
    "# r2 = r2_score(y_test, y_pred)\n",
    "\n",
    "# print(\"Mean Squared Error:\", mse)\n",
    "# print(\"R^2 Score:\", r2)"
   ]
  }
 ],
 "metadata": {
  "kernelspec": {
   "display_name": "Python 3 (ipykernel)",
   "language": "python",
   "name": "python3"
  },
  "language_info": {
   "codemirror_mode": {
    "name": "ipython",
    "version": 3
   },
   "file_extension": ".py",
   "mimetype": "text/x-python",
   "name": "python",
   "nbconvert_exporter": "python",
   "pygments_lexer": "ipython3",
   "version": "3.10.13"
  }
 },
 "nbformat": 4,
 "nbformat_minor": 5
}
